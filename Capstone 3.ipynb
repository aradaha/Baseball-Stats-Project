{
 "cells": [
  {
   "cell_type": "markdown",
   "metadata": {},
   "source": [
    "# Capstone 3"
   ]
  },
  {
   "cell_type": "markdown",
   "metadata": {},
   "source": []
  },
  {
   "cell_type": "code",
   "execution_count": 4,
   "metadata": {},
   "outputs": [],
   "source": [
    "# Importing Libraries\n",
    "import warnings\n",
    "warnings.filterwarnings('ignore')\n",
    "import pandas as pd\n",
    "import pandas.util.testing as tm\n",
    "from pandas import DataFrame\n",
    "from pandas.plotting import register_matplotlib_converters\n",
    "import numpy as np\n",
    "import matplotlib.pyplot as plt\n",
    "from sklearn.neighbors import KNeighborsClassifier, KNeighborsRegressor\n",
    "from mpl_toolkits.mplot3d import Axes3D\n",
    "from sklearn.preprocessing import LabelEncoder\n",
    "import seaborn as sns\n",
    "import os\n",
    "%matplotlib inline\n",
    "import sys\n",
    "from sklearn import metrics\n",
    "from sklearn.model_selection import train_test_split\n",
    "from sklearn.ensemble import RandomForestClassifier\n",
    "import sklearn.preprocessing\n",
    "from sklearn.neighbors import KNeighborsClassifier, KNeighborsRegressor\n",
    "from sklearn.ensemble import AdaBoostClassifier, GradientBoostingClassifier\n",
    "from sklearn.metrics import confusion_matrix\n",
    "from sklearn.metrics import mean_squared_error\n",
    "from sklearn.metrics import roc_curve, auc\n",
    "from sklearn.tree import DecisionTreeClassifier\n",
    "from sklearn.linear_model import RidgeClassifier\n",
    "from numpy import random\n",
    "import datetime as dt\n",
    "from datetime import timedelta\n",
    "from dateutil.relativedelta import relativedelta\n",
    "import statsmodels.api as sm\n",
    "from statsmodels.tsa.stattools import acf, pacf\n",
    "from statsmodels.tsa.statespace.sarimax import SARIMAX as SX\n",
    "from statsmodels.tsa.seasonal import seasonal_decompose as decomp\n",
    "from statsmodels.tsa.stattools import adfuller\n",
    "import itertools\n",
    "register_matplotlib_converters()\n",
    "from time import time\n",
    "import math\n",
    "from fbprophet import Prophet\n",
    "from collections import OrderedDict\n",
    "import random"
   ]
  },
  {
   "cell_type": "code",
   "execution_count": 2,
   "metadata": {},
   "outputs": [],
   "source": [
    "# Assigning all csv files to a variable\n",
    "data = [\"AllstarFull.csv\",\"Appearances.csv\",\"AwardsManagers.csv\",\n",
    "        \"AwardsPlayers.csv\",\"AwardsShareManagers.csv\",\"AwardsSharePlayers.csv\",\n",
    "        \"Batting.csv\",\"BattingPost.csv\",\"CollegePlaying.csv\",\n",
    "        \"Fielding.csv\",\"FieldingOF.csv\",\"FieldingOFsplit.csv\",\n",
    "        \"FieldingPost.csv\",\"HallOfFame.csv\",\"HomeGames.csv\",\"Managers.csv\",\n",
    "        \"ManagersHalf.csv\",\"Parks.csv\",\"People.csv\",\"Pitching.csv\",\n",
    "        \"PitchingPost.csv\",\"Salaries.csv\",\"Schools.csv\",\"SeriesPost.csv\",\n",
    "        \"Teams.csv\",\"TeamsFranchises.csv\",\"TeamsHalf.csv\"]"
   ]
  },
  {
   "cell_type": "code",
   "execution_count": 3,
   "metadata": {},
   "outputs": [],
   "source": [
    "# Creating a dictionary for filenames\n",
    "dictum = {}\n",
    "files = {}\n",
    "for x in data:\n",
    "    dictum[x] = pd.read_csv(x)\n",
    "for x in dictum:\n",
    "    # Removing all \".csv\" and making lowercase\n",
    "    cleaned = os.path.basename(x).replace('.csv', '')\n",
    "    # Re-reading files after name change\n",
    "    df = pd.read_csv(x)\n",
    "    # Adding to \"files\" dictionary\n",
    "    files[cleaned] = df"
   ]
  }
 ],
 "metadata": {
  "kernelspec": {
   "display_name": "Python 3",
   "language": "python",
   "name": "python3"
  },
  "language_info": {
   "codemirror_mode": {
    "name": "ipython",
    "version": 3
   },
   "file_extension": ".py",
   "mimetype": "text/x-python",
   "name": "python",
   "nbconvert_exporter": "python",
   "pygments_lexer": "ipython3",
   "version": "3.8.5"
  }
 },
 "nbformat": 4,
 "nbformat_minor": 4
}
