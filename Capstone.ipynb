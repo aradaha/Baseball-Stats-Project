{
 "cells": [
  {
   "cell_type": "markdown",
   "metadata": {},
   "source": [
    "# Capstone Project"
   ]
  },
  {
   "cell_type": "markdown",
   "metadata": {},
   "source": [
    "Reuben Hough"
   ]
  },
  {
   "cell_type": "code",
   "execution_count": 1,
   "metadata": {
    "scrolled": false
   },
   "outputs": [],
   "source": [
    "# Importing Libraries\n",
    "import warnings\n",
    "warnings.filterwarnings('ignore')\n",
    "import pandas as pd\n",
    "import pandas.util.testing as tm\n",
    "from pandas import DataFrame\n",
    "from pandas.plotting import register_matplotlib_converters\n",
    "import numpy as np\n",
    "import matplotlib.pyplot as plt\n",
    "from sklearn.neighbors import KNeighborsClassifier, KNeighborsRegressor\n",
    "from mpl_toolkits.mplot3d import Axes3D\n",
    "from sklearn.preprocessing import LabelEncoder\n",
    "import seaborn as sns\n",
    "import os\n",
    "%matplotlib inline\n",
    "import sys\n",
    "from sklearn import metrics\n",
    "from sklearn.model_selection import train_test_split\n",
    "from sklearn.ensemble import RandomForestClassifier\n",
    "import sklearn.preprocessing\n",
    "from sklearn.neighbors import KNeighborsClassifier, KNeighborsRegressor\n",
    "from sklearn.ensemble import AdaBoostClassifier, GradientBoostingClassifier\n",
    "from sklearn.metrics import confusion_matrix\n",
    "from sklearn.metrics import mean_squared_error\n",
    "from sklearn.metrics import roc_curve, auc\n",
    "from sklearn.tree import DecisionTreeClassifier\n",
    "from sklearn.linear_model import RidgeClassifier\n",
    "from numpy import random\n",
    "import random\n",
    "import datetime as dt\n",
    "from datetime import timedelta\n",
    "from dateutil.relativedelta import relativedelta\n",
    "import statsmodels.api as sm\n",
    "from statsmodels.tsa.stattools import acf, pacf\n",
    "from statsmodels.tsa.statespace.sarimax import SARIMAX as SX\n",
    "from statsmodels.tsa.seasonal import seasonal_decompose as decomp\n",
    "from statsmodels.tsa.stattools import adfuller\n",
    "import itertools\n",
    "register_matplotlib_converters()\n",
    "from time import time\n",
    "import math\n",
    "from fbprophet import Prophet\n",
    "from collections import OrderedDict\n",
    "from sklearn.pipeline import Pipeline"
   ]
  },
  {
   "cell_type": "markdown",
   "metadata": {},
   "source": [
    "## Data Observation and Cleaning"
   ]
  },
  {
   "cell_type": "code",
   "execution_count": 2,
   "metadata": {},
   "outputs": [],
   "source": [
    "# This function displays all columns when looking at the data\n",
    "def display_all(df):\n",
    "    with pd.option_context('display.max_rows', 1000):\n",
    "        with pd.option_context('display.max_columns', 1000):\n",
    "            display(df)"
   ]
  },
  {
   "cell_type": "code",
   "execution_count": 3,
   "metadata": {},
   "outputs": [],
   "source": [
    "# Assigning all csv files to a variable\n",
    "data = [\"AllstarFull.csv\",\"Appearances.csv\",\"AwardsManagers.csv\",\n",
    "        \"AwardsPlayers.csv\",\"AwardsShareManagers.csv\",\"AwardsSharePlayers.csv\",\n",
    "        \"Batting.csv\",\"BattingPost.csv\",\"CollegePlaying.csv\",\n",
    "        \"Fielding.csv\",\"FieldingOF.csv\",\"FieldingOFsplit.csv\",\n",
    "        \"FieldingPost.csv\",\"HallOfFame.csv\",\"HomeGames.csv\",\"Managers.csv\",\n",
    "        \"ManagersHalf.csv\",\"Parks.csv\",\"People.csv\",\"Pitching.csv\",\n",
    "        \"PitchingPost.csv\",\"Salaries.csv\",\"Schools.csv\",\"SeriesPost.csv\",\n",
    "        \"Teams.csv\",\"TeamsFranchises.csv\",\"TeamsHalf.csv\"]"
   ]
  },
  {
   "cell_type": "code",
   "execution_count": 4,
   "metadata": {},
   "outputs": [],
   "source": [
    "# Creating a dictionary for filenames\n",
    "dictum = {}\n",
    "files = {}\n",
    "for x in data:\n",
    "    dictum[x] = pd.read_csv(x)\n",
    "for x in dictum:\n",
    "    # Removing all \".csv\"\n",
    "    cleaned = os.path.basename(x).replace('.csv', '')\n",
    "    # Re-reading files after name change\n",
    "    df = pd.read_csv(x)\n",
    "    # Adding to \"files\" dictionary\n",
    "    files[cleaned] = df"
   ]
  },
  {
   "cell_type": "code",
   "execution_count": 5,
   "metadata": {},
   "outputs": [
    {
     "data": {
      "text/html": [
       "<div>\n",
       "<style scoped>\n",
       "    .dataframe tbody tr th:only-of-type {\n",
       "        vertical-align: middle;\n",
       "    }\n",
       "\n",
       "    .dataframe tbody tr th {\n",
       "        vertical-align: top;\n",
       "    }\n",
       "\n",
       "    .dataframe thead th {\n",
       "        text-align: right;\n",
       "    }\n",
       "</style>\n",
       "<table border=\"1\" class=\"dataframe\">\n",
       "  <thead>\n",
       "    <tr style=\"text-align: right;\">\n",
       "      <th></th>\n",
       "      <th>playerID</th>\n",
       "      <th>birthYear</th>\n",
       "      <th>birthMonth</th>\n",
       "      <th>birthDay</th>\n",
       "      <th>birthCountry</th>\n",
       "      <th>birthState</th>\n",
       "      <th>birthCity</th>\n",
       "      <th>deathYear</th>\n",
       "      <th>deathMonth</th>\n",
       "      <th>deathDay</th>\n",
       "      <th>deathCountry</th>\n",
       "      <th>deathState</th>\n",
       "      <th>deathCity</th>\n",
       "      <th>nameFirst</th>\n",
       "      <th>nameLast</th>\n",
       "      <th>nameGiven</th>\n",
       "      <th>weight</th>\n",
       "      <th>height</th>\n",
       "      <th>bats</th>\n",
       "      <th>throws</th>\n",
       "      <th>debut</th>\n",
       "      <th>finalGame</th>\n",
       "      <th>retroID</th>\n",
       "      <th>bbrefID</th>\n",
       "    </tr>\n",
       "  </thead>\n",
       "  <tbody>\n",
       "    <tr>\n",
       "      <th>0</th>\n",
       "      <td>aardsda01</td>\n",
       "      <td>1981.0</td>\n",
       "      <td>12.0</td>\n",
       "      <td>27.0</td>\n",
       "      <td>USA</td>\n",
       "      <td>CO</td>\n",
       "      <td>Denver</td>\n",
       "      <td>NaN</td>\n",
       "      <td>NaN</td>\n",
       "      <td>NaN</td>\n",
       "      <td>NaN</td>\n",
       "      <td>NaN</td>\n",
       "      <td>NaN</td>\n",
       "      <td>David</td>\n",
       "      <td>Aardsma</td>\n",
       "      <td>David Allan</td>\n",
       "      <td>215.0</td>\n",
       "      <td>75.0</td>\n",
       "      <td>R</td>\n",
       "      <td>R</td>\n",
       "      <td>2004-04-06</td>\n",
       "      <td>2015-08-23</td>\n",
       "      <td>aardd001</td>\n",
       "      <td>aardsda01</td>\n",
       "    </tr>\n",
       "    <tr>\n",
       "      <th>1</th>\n",
       "      <td>aaronha01</td>\n",
       "      <td>1934.0</td>\n",
       "      <td>2.0</td>\n",
       "      <td>5.0</td>\n",
       "      <td>USA</td>\n",
       "      <td>AL</td>\n",
       "      <td>Mobile</td>\n",
       "      <td>NaN</td>\n",
       "      <td>NaN</td>\n",
       "      <td>NaN</td>\n",
       "      <td>NaN</td>\n",
       "      <td>NaN</td>\n",
       "      <td>NaN</td>\n",
       "      <td>Hank</td>\n",
       "      <td>Aaron</td>\n",
       "      <td>Henry Louis</td>\n",
       "      <td>180.0</td>\n",
       "      <td>72.0</td>\n",
       "      <td>R</td>\n",
       "      <td>R</td>\n",
       "      <td>1954-04-13</td>\n",
       "      <td>1976-10-03</td>\n",
       "      <td>aaroh101</td>\n",
       "      <td>aaronha01</td>\n",
       "    </tr>\n",
       "    <tr>\n",
       "      <th>2</th>\n",
       "      <td>aaronto01</td>\n",
       "      <td>1939.0</td>\n",
       "      <td>8.0</td>\n",
       "      <td>5.0</td>\n",
       "      <td>USA</td>\n",
       "      <td>AL</td>\n",
       "      <td>Mobile</td>\n",
       "      <td>1984.0</td>\n",
       "      <td>8.0</td>\n",
       "      <td>16.0</td>\n",
       "      <td>USA</td>\n",
       "      <td>GA</td>\n",
       "      <td>Atlanta</td>\n",
       "      <td>Tommie</td>\n",
       "      <td>Aaron</td>\n",
       "      <td>Tommie Lee</td>\n",
       "      <td>190.0</td>\n",
       "      <td>75.0</td>\n",
       "      <td>R</td>\n",
       "      <td>R</td>\n",
       "      <td>1962-04-10</td>\n",
       "      <td>1971-09-26</td>\n",
       "      <td>aarot101</td>\n",
       "      <td>aaronto01</td>\n",
       "    </tr>\n",
       "    <tr>\n",
       "      <th>3</th>\n",
       "      <td>aasedo01</td>\n",
       "      <td>1954.0</td>\n",
       "      <td>9.0</td>\n",
       "      <td>8.0</td>\n",
       "      <td>USA</td>\n",
       "      <td>CA</td>\n",
       "      <td>Orange</td>\n",
       "      <td>NaN</td>\n",
       "      <td>NaN</td>\n",
       "      <td>NaN</td>\n",
       "      <td>NaN</td>\n",
       "      <td>NaN</td>\n",
       "      <td>NaN</td>\n",
       "      <td>Don</td>\n",
       "      <td>Aase</td>\n",
       "      <td>Donald William</td>\n",
       "      <td>190.0</td>\n",
       "      <td>75.0</td>\n",
       "      <td>R</td>\n",
       "      <td>R</td>\n",
       "      <td>1977-07-26</td>\n",
       "      <td>1990-10-03</td>\n",
       "      <td>aased001</td>\n",
       "      <td>aasedo01</td>\n",
       "    </tr>\n",
       "    <tr>\n",
       "      <th>4</th>\n",
       "      <td>abadan01</td>\n",
       "      <td>1972.0</td>\n",
       "      <td>8.0</td>\n",
       "      <td>25.0</td>\n",
       "      <td>USA</td>\n",
       "      <td>FL</td>\n",
       "      <td>Palm Beach</td>\n",
       "      <td>NaN</td>\n",
       "      <td>NaN</td>\n",
       "      <td>NaN</td>\n",
       "      <td>NaN</td>\n",
       "      <td>NaN</td>\n",
       "      <td>NaN</td>\n",
       "      <td>Andy</td>\n",
       "      <td>Abad</td>\n",
       "      <td>Fausto Andres</td>\n",
       "      <td>184.0</td>\n",
       "      <td>73.0</td>\n",
       "      <td>L</td>\n",
       "      <td>L</td>\n",
       "      <td>2001-09-10</td>\n",
       "      <td>2006-04-13</td>\n",
       "      <td>abada001</td>\n",
       "      <td>abadan01</td>\n",
       "    </tr>\n",
       "    <tr>\n",
       "      <th>...</th>\n",
       "      <td>...</td>\n",
       "      <td>...</td>\n",
       "      <td>...</td>\n",
       "      <td>...</td>\n",
       "      <td>...</td>\n",
       "      <td>...</td>\n",
       "      <td>...</td>\n",
       "      <td>...</td>\n",
       "      <td>...</td>\n",
       "      <td>...</td>\n",
       "      <td>...</td>\n",
       "      <td>...</td>\n",
       "      <td>...</td>\n",
       "      <td>...</td>\n",
       "      <td>...</td>\n",
       "      <td>...</td>\n",
       "      <td>...</td>\n",
       "      <td>...</td>\n",
       "      <td>...</td>\n",
       "      <td>...</td>\n",
       "      <td>...</td>\n",
       "      <td>...</td>\n",
       "      <td>...</td>\n",
       "      <td>...</td>\n",
       "    </tr>\n",
       "    <tr>\n",
       "      <th>20085</th>\n",
       "      <td>zupofr01</td>\n",
       "      <td>1939.0</td>\n",
       "      <td>8.0</td>\n",
       "      <td>29.0</td>\n",
       "      <td>USA</td>\n",
       "      <td>CA</td>\n",
       "      <td>San Francisco</td>\n",
       "      <td>2005.0</td>\n",
       "      <td>3.0</td>\n",
       "      <td>25.0</td>\n",
       "      <td>USA</td>\n",
       "      <td>CA</td>\n",
       "      <td>Burlingame</td>\n",
       "      <td>Frank</td>\n",
       "      <td>Zupo</td>\n",
       "      <td>Frank Joseph</td>\n",
       "      <td>182.0</td>\n",
       "      <td>71.0</td>\n",
       "      <td>L</td>\n",
       "      <td>R</td>\n",
       "      <td>1957-07-01</td>\n",
       "      <td>1961-05-09</td>\n",
       "      <td>zupof101</td>\n",
       "      <td>zupofr01</td>\n",
       "    </tr>\n",
       "    <tr>\n",
       "      <th>20086</th>\n",
       "      <td>zuvelpa01</td>\n",
       "      <td>1958.0</td>\n",
       "      <td>10.0</td>\n",
       "      <td>31.0</td>\n",
       "      <td>USA</td>\n",
       "      <td>CA</td>\n",
       "      <td>San Mateo</td>\n",
       "      <td>NaN</td>\n",
       "      <td>NaN</td>\n",
       "      <td>NaN</td>\n",
       "      <td>NaN</td>\n",
       "      <td>NaN</td>\n",
       "      <td>NaN</td>\n",
       "      <td>Paul</td>\n",
       "      <td>Zuvella</td>\n",
       "      <td>Paul</td>\n",
       "      <td>173.0</td>\n",
       "      <td>72.0</td>\n",
       "      <td>R</td>\n",
       "      <td>R</td>\n",
       "      <td>1982-09-04</td>\n",
       "      <td>1991-05-02</td>\n",
       "      <td>zuvep001</td>\n",
       "      <td>zuvelpa01</td>\n",
       "    </tr>\n",
       "    <tr>\n",
       "      <th>20087</th>\n",
       "      <td>zuverge01</td>\n",
       "      <td>1924.0</td>\n",
       "      <td>8.0</td>\n",
       "      <td>20.0</td>\n",
       "      <td>USA</td>\n",
       "      <td>MI</td>\n",
       "      <td>Holland</td>\n",
       "      <td>2014.0</td>\n",
       "      <td>9.0</td>\n",
       "      <td>8.0</td>\n",
       "      <td>USA</td>\n",
       "      <td>AZ</td>\n",
       "      <td>Tempe</td>\n",
       "      <td>George</td>\n",
       "      <td>Zuverink</td>\n",
       "      <td>George</td>\n",
       "      <td>195.0</td>\n",
       "      <td>76.0</td>\n",
       "      <td>R</td>\n",
       "      <td>R</td>\n",
       "      <td>1951-04-21</td>\n",
       "      <td>1959-06-15</td>\n",
       "      <td>zuveg101</td>\n",
       "      <td>zuverge01</td>\n",
       "    </tr>\n",
       "    <tr>\n",
       "      <th>20088</th>\n",
       "      <td>zwilldu01</td>\n",
       "      <td>1888.0</td>\n",
       "      <td>11.0</td>\n",
       "      <td>2.0</td>\n",
       "      <td>USA</td>\n",
       "      <td>MO</td>\n",
       "      <td>St. Louis</td>\n",
       "      <td>1978.0</td>\n",
       "      <td>3.0</td>\n",
       "      <td>27.0</td>\n",
       "      <td>USA</td>\n",
       "      <td>CA</td>\n",
       "      <td>La Crescenta</td>\n",
       "      <td>Dutch</td>\n",
       "      <td>Zwilling</td>\n",
       "      <td>Edward Harrison</td>\n",
       "      <td>160.0</td>\n",
       "      <td>66.0</td>\n",
       "      <td>L</td>\n",
       "      <td>L</td>\n",
       "      <td>1910-08-14</td>\n",
       "      <td>1916-07-12</td>\n",
       "      <td>zwild101</td>\n",
       "      <td>zwilldu01</td>\n",
       "    </tr>\n",
       "    <tr>\n",
       "      <th>20089</th>\n",
       "      <td>zychto01</td>\n",
       "      <td>1990.0</td>\n",
       "      <td>8.0</td>\n",
       "      <td>7.0</td>\n",
       "      <td>USA</td>\n",
       "      <td>IL</td>\n",
       "      <td>Monee</td>\n",
       "      <td>NaN</td>\n",
       "      <td>NaN</td>\n",
       "      <td>NaN</td>\n",
       "      <td>NaN</td>\n",
       "      <td>NaN</td>\n",
       "      <td>NaN</td>\n",
       "      <td>Tony</td>\n",
       "      <td>Zych</td>\n",
       "      <td>Anthony Aaron</td>\n",
       "      <td>190.0</td>\n",
       "      <td>75.0</td>\n",
       "      <td>R</td>\n",
       "      <td>R</td>\n",
       "      <td>2015-09-04</td>\n",
       "      <td>2017-08-19</td>\n",
       "      <td>zycht001</td>\n",
       "      <td>zychto01</td>\n",
       "    </tr>\n",
       "  </tbody>\n",
       "</table>\n",
       "<p>20090 rows × 24 columns</p>\n",
       "</div>"
      ],
      "text/plain": [
       "        playerID  birthYear  birthMonth  birthDay birthCountry birthState  \\\n",
       "0      aardsda01     1981.0        12.0      27.0          USA         CO   \n",
       "1      aaronha01     1934.0         2.0       5.0          USA         AL   \n",
       "2      aaronto01     1939.0         8.0       5.0          USA         AL   \n",
       "3       aasedo01     1954.0         9.0       8.0          USA         CA   \n",
       "4       abadan01     1972.0         8.0      25.0          USA         FL   \n",
       "...          ...        ...         ...       ...          ...        ...   \n",
       "20085   zupofr01     1939.0         8.0      29.0          USA         CA   \n",
       "20086  zuvelpa01     1958.0        10.0      31.0          USA         CA   \n",
       "20087  zuverge01     1924.0         8.0      20.0          USA         MI   \n",
       "20088  zwilldu01     1888.0        11.0       2.0          USA         MO   \n",
       "20089   zychto01     1990.0         8.0       7.0          USA         IL   \n",
       "\n",
       "           birthCity  deathYear  deathMonth  deathDay deathCountry deathState  \\\n",
       "0             Denver        NaN         NaN       NaN          NaN        NaN   \n",
       "1             Mobile        NaN         NaN       NaN          NaN        NaN   \n",
       "2             Mobile     1984.0         8.0      16.0          USA         GA   \n",
       "3             Orange        NaN         NaN       NaN          NaN        NaN   \n",
       "4         Palm Beach        NaN         NaN       NaN          NaN        NaN   \n",
       "...              ...        ...         ...       ...          ...        ...   \n",
       "20085  San Francisco     2005.0         3.0      25.0          USA         CA   \n",
       "20086      San Mateo        NaN         NaN       NaN          NaN        NaN   \n",
       "20087        Holland     2014.0         9.0       8.0          USA         AZ   \n",
       "20088      St. Louis     1978.0         3.0      27.0          USA         CA   \n",
       "20089          Monee        NaN         NaN       NaN          NaN        NaN   \n",
       "\n",
       "          deathCity nameFirst  nameLast        nameGiven  weight  height bats  \\\n",
       "0               NaN     David   Aardsma      David Allan   215.0    75.0    R   \n",
       "1               NaN      Hank     Aaron      Henry Louis   180.0    72.0    R   \n",
       "2           Atlanta    Tommie     Aaron       Tommie Lee   190.0    75.0    R   \n",
       "3               NaN       Don      Aase   Donald William   190.0    75.0    R   \n",
       "4               NaN      Andy      Abad    Fausto Andres   184.0    73.0    L   \n",
       "...             ...       ...       ...              ...     ...     ...  ...   \n",
       "20085    Burlingame     Frank      Zupo     Frank Joseph   182.0    71.0    L   \n",
       "20086           NaN      Paul   Zuvella             Paul   173.0    72.0    R   \n",
       "20087         Tempe    George  Zuverink           George   195.0    76.0    R   \n",
       "20088  La Crescenta     Dutch  Zwilling  Edward Harrison   160.0    66.0    L   \n",
       "20089           NaN      Tony      Zych    Anthony Aaron   190.0    75.0    R   \n",
       "\n",
       "      throws       debut   finalGame   retroID    bbrefID  \n",
       "0          R  2004-04-06  2015-08-23  aardd001  aardsda01  \n",
       "1          R  1954-04-13  1976-10-03  aaroh101  aaronha01  \n",
       "2          R  1962-04-10  1971-09-26  aarot101  aaronto01  \n",
       "3          R  1977-07-26  1990-10-03  aased001   aasedo01  \n",
       "4          L  2001-09-10  2006-04-13  abada001   abadan01  \n",
       "...      ...         ...         ...       ...        ...  \n",
       "20085      R  1957-07-01  1961-05-09  zupof101   zupofr01  \n",
       "20086      R  1982-09-04  1991-05-02  zuvep001  zuvelpa01  \n",
       "20087      R  1951-04-21  1959-06-15  zuveg101  zuverge01  \n",
       "20088      L  1910-08-14  1916-07-12  zwild101  zwilldu01  \n",
       "20089      R  2015-09-04  2017-08-19  zycht001   zychto01  \n",
       "\n",
       "[20090 rows x 24 columns]"
      ]
     },
     "metadata": {},
     "output_type": "display_data"
    }
   ],
   "source": [
    "display_all(files['People'])"
   ]
  },
  {
   "cell_type": "markdown",
   "metadata": {},
   "source": [
    "This dataset consists of over twenty thousand Major League Baseball players from 1871 to 2019.\n",
    "\n",
    "This dataset is from Kaggle, however they did not provide complete and accurate information, so I searched for the source of the information which I then copied into this repository."
   ]
  },
  {
   "cell_type": "code",
   "execution_count": 6,
   "metadata": {},
   "outputs": [
    {
     "name": "stdout",
     "output_type": "stream",
     "text": [
      "<class 'pandas.core.frame.DataFrame'>\n",
      "RangeIndex: 20090 entries, 0 to 20089\n",
      "Data columns (total 24 columns):\n",
      " #   Column        Non-Null Count  Dtype  \n",
      "---  ------        --------------  -----  \n",
      " 0   playerID      20090 non-null  object \n",
      " 1   birthYear     19976 non-null  float64\n",
      " 2   birthMonth    19808 non-null  float64\n",
      " 3   birthDay      19666 non-null  float64\n",
      " 4   birthCountry  20029 non-null  object \n",
      " 5   birthState    19535 non-null  object \n",
      " 6   birthCity     19918 non-null  object \n",
      " 7   deathYear     9844 non-null   float64\n",
      " 8   deathMonth    9843 non-null   float64\n",
      " 9   deathDay      9842 non-null   float64\n",
      " 10  deathCountry  9840 non-null   object \n",
      " 11  deathState    9790 non-null   object \n",
      " 12  deathCity     9834 non-null   object \n",
      " 13  nameFirst     20053 non-null  object \n",
      " 14  nameLast      20090 non-null  object \n",
      " 15  nameGiven     20053 non-null  object \n",
      " 16  weight        19273 non-null  float64\n",
      " 17  height        19353 non-null  float64\n",
      " 18  bats          18910 non-null  object \n",
      " 19  throws        19113 non-null  object \n",
      " 20  debut         19892 non-null  object \n",
      " 21  finalGame     19892 non-null  object \n",
      " 22  retroID       20034 non-null  object \n",
      " 23  bbrefID       20088 non-null  object \n",
      "dtypes: float64(8), object(16)\n",
      "memory usage: 3.7+ MB\n"
     ]
    }
   ],
   "source": [
    "P = DataFrame(files['People'].copy())\n",
    "P.info(verbose=True, null_counts=True)"
   ]
  },
  {
   "cell_type": "markdown",
   "metadata": {},
   "source": [
    "For my purpose many of these categories will not be very useful, for example when and where some of these people died. There is also many missing values in those categories."
   ]
  },
  {
   "cell_type": "code",
   "execution_count": 7,
   "metadata": {},
   "outputs": [],
   "source": [
    "P.drop(['birthCountry','birthState','birthCity','deathYear',\n",
    "        'deathMonth','deathDay','deathCountry','deathState',\n",
    "        'deathCity','retroID','bbrefID','bats','throws',\n",
    "        'nameGiven','nameLast','nameFirst'], axis=1, inplace=True)\n",
    "People = P.copy()"
   ]
  },
  {
   "cell_type": "code",
   "execution_count": 8,
   "metadata": {},
   "outputs": [],
   "source": [
    "People = People.loc[ : ,['playerID','birthYear','birthMonth','debut','finalGame']]"
   ]
  },
  {
   "cell_type": "markdown",
   "metadata": {},
   "source": [
    "The next thing to do is to get more information from the data. First I'm going to calculate how old each player was when they started playing, how long they played, and how old they were at retirement."
   ]
  },
  {
   "cell_type": "code",
   "execution_count": 9,
   "metadata": {},
   "outputs": [],
   "source": [
    "# There are relatively few N/A values, they can be dropped for now\n",
    "People = People.dropna()"
   ]
  },
  {
   "cell_type": "code",
   "execution_count": 10,
   "metadata": {},
   "outputs": [],
   "source": [
    "# Here I'm separating the years and months and making them integer\n",
    "# to make them easier to work with\n",
    "People['debutYear'] = People['debut'].apply(lambda x: str(x)).apply(lambda x: '{}'.format(x[:4]))\n",
    "People['debutYear'] = People['debutYear'].apply(lambda x: int(x))\n",
    "People['debutMonth'] = People['debut'].apply(lambda x: str(x)).apply(lambda x: '{}'.format(x[-5:-3]))\n",
    "People['debutMonth'] = People['debutMonth'].apply(lambda x: int(x))\n",
    "People['finalYear'] = People['finalGame'].apply(lambda x: str(x)).apply(lambda x: '{}'.format(x[:4]))\n",
    "People['finalYear'] = People['finalYear'].apply(lambda x: int(x))\n",
    "People['finalMonth'] = People['finalGame'].apply(lambda x: str(x)).apply(lambda x: '{}'.format(x[-5:-3]))\n",
    "People['finalMonth'] = People['finalMonth'].apply(lambda x: int(x))"
   ]
  },
  {
   "cell_type": "code",
   "execution_count": 11,
   "metadata": {},
   "outputs": [],
   "source": [
    "# This function turns the year and month columns into one value\n",
    "def Months(df, ycol, mcol):\n",
    "    z = []\n",
    "    for x in df.index:\n",
    "        z.append(12*(df['{}'.format(ycol)][x]) + (df['{}'.format(mcol)][x]))\n",
    "    return z"
   ]
  },
  {
   "cell_type": "code",
   "execution_count": 12,
   "metadata": {},
   "outputs": [],
   "source": [
    "# This function subtracts the items of one list from another\n",
    "def ToYears(list1, list2):\n",
    "    z = []\n",
    "    for x in list(range(len(list1))):\n",
    "        z.append(round((list1[x] - list2[x])/12,2))\n",
    "    return z"
   ]
  },
  {
   "cell_type": "code",
   "execution_count": 13,
   "metadata": {},
   "outputs": [],
   "source": [
    "# Here I'm creating new data columns\n",
    "start = Months(People, 'debutYear', 'debutMonth')\n",
    "born = Months(People, 'birthYear', 'birthMonth')\n",
    "final = Months(People, 'finalYear', 'finalMonth')\n",
    "People['startingAge'] = ToYears(start,born)\n",
    "People['timePlayed'] = ToYears(final,start)\n",
    "People['endingAge'] = ToYears(final,born)"
   ]
  },
  {
   "cell_type": "code",
   "execution_count": 14,
   "metadata": {},
   "outputs": [],
   "source": [
    "People = People.loc[ : ,['playerID','startingAge','timePlayed','endingAge']]"
   ]
  },
  {
   "cell_type": "code",
   "execution_count": 15,
   "metadata": {},
   "outputs": [],
   "source": [
    "# Merging back to the original dataset, keeping N/A values for now\n",
    "df = P.merge(People, how='left', on=\"playerID\")\n",
    "df.drop(['debut','finalGame','birthMonth','birthDay'], axis=1, inplace=True)"
   ]
  },
  {
   "cell_type": "code",
   "execution_count": 16,
   "metadata": {},
   "outputs": [
    {
     "name": "stdout",
     "output_type": "stream",
     "text": [
      "<class 'pandas.core.frame.DataFrame'>\n",
      "Int64Index: 20090 entries, 0 to 20089\n",
      "Data columns (total 7 columns):\n",
      " #   Column       Non-Null Count  Dtype  \n",
      "---  ------       --------------  -----  \n",
      " 0   playerID     20090 non-null  object \n",
      " 1   birthYear    19976 non-null  float64\n",
      " 2   weight       19273 non-null  float64\n",
      " 3   height       19353 non-null  float64\n",
      " 4   startingAge  19616 non-null  float64\n",
      " 5   timePlayed   19616 non-null  float64\n",
      " 6   endingAge    19616 non-null  float64\n",
      "dtypes: float64(6), object(1)\n",
      "memory usage: 1.2+ MB\n"
     ]
    }
   ],
   "source": [
    "df.info()"
   ]
  },
  {
   "cell_type": "markdown",
   "metadata": {},
   "source": [
    "## Player Awards"
   ]
  },
  {
   "cell_type": "code",
   "execution_count": 17,
   "metadata": {
    "scrolled": true
   },
   "outputs": [
    {
     "name": "stdout",
     "output_type": "stream",
     "text": [
      "There have been 6236 awards given to 1360 players\n"
     ]
    }
   ],
   "source": [
    "# Here I'm starting to look at more dataframes\n",
    "AwardsPlayers = files['AwardsPlayers'].copy()\n",
    "print(''.join((f\"There have been {AwardsPlayers.shape[0]} awards \", \n",
    "f\"given to {AwardsPlayers.nunique()[0]} players\")))"
   ]
  },
  {
   "cell_type": "code",
   "execution_count": 18,
   "metadata": {},
   "outputs": [
    {
     "data": {
      "text/plain": [
       "6.769537083125933"
      ]
     },
     "execution_count": 18,
     "metadata": {},
     "output_type": "execute_result"
    }
   ],
   "source": [
    "# That's less that 7 percent of the total,\n",
    "# this should be useful in finding the best players\n",
    "100*(AwardsPlayers.nunique()[0]/P.shape[0])"
   ]
  },
  {
   "cell_type": "code",
   "execution_count": 19,
   "metadata": {},
   "outputs": [],
   "source": [
    "# This will let me make a simple plot and put in variables as needed\n",
    "def toplot(dataframe, column, b, title=\"Title\",xlabel=\"X Label Here\",\n",
    "            ylabel=\"Y Label Here\", kind=\"line\", color=\"skyblue\"):\n",
    "    mean = dataframe['{}'.format(column)].mean()\n",
    "    median = dataframe['{}'.format(column)].median()\n",
    "    ax = dataframe['{}'.format(column)].plot(kind=kind, bins=b, color=color)\n",
    "    ax.set_xlabel(xlabel)\n",
    "    ax.set_ylabel(ylabel)\n",
    "    plt.title(title)"
   ]
  },
  {
   "cell_type": "code",
   "execution_count": 20,
   "metadata": {
    "scrolled": false
   },
   "outputs": [
    {
     "data": {
      "image/png": "[encoded data removed]",
      "text/plain": [
       "<Figure size 432x288 with 1 Axes>"
      ]
     },
     "metadata": {
      "needs_background": "light"
     },
     "output_type": "display_data"
    }
   ],
   "source": [
    "toplot(AwardsPlayers, 'yearID', 50, \"Awards Given By Year\",\n",
    "        \"Year\", \"Number of Awards\", \"hist\", \"darkgoldenrod\")"
   ]
  },
  {
   "cell_type": "markdown",
   "metadata": {},
   "source": [
    "Few awards were given out in the early years, presumably baseball was not as mainstream at the time. The MVP award began in 1910, the same time as the obvious increase.\n",
    "\n",
    "There's also a clear dip in awards given shortly after WWII. I suspect this may be related to integration which was happening around that time, so this may be a sensitive issue to look into."
   ]
  },
  {
   "cell_type": "code",
   "execution_count": 21,
   "metadata": {},
   "outputs": [],
   "source": [
    "AwardsPlayers = AwardsPlayers.sort_values(by='playerID')"
   ]
  },
  {
   "cell_type": "code",
   "execution_count": 22,
   "metadata": {
    "scrolled": true
   },
   "outputs": [],
   "source": [
    "# Turning the players and awards into a dataframe\n",
    "APNames = AwardsPlayers['playerID'].value_counts(dropna=False).index.tolist()\n",
    "APAward = AwardsPlayers['playerID'].value_counts(dropna=False).tolist()\n",
    "Awards = DataFrame([APNames,APAward]).transpose()\n",
    "Awards.columns = ['playerID','awards']"
   ]
  },
  {
   "cell_type": "code",
   "execution_count": 23,
   "metadata": {
    "scrolled": true
   },
   "outputs": [
    {
     "data": {
      "text/plain": [
       "Text(0, 0.5, 'Number of Awards')"
      ]
     },
     "execution_count": 23,
     "metadata": {},
     "output_type": "execute_result"
    },
    {
     "data": {
      "image/png": "[encoded data removed]",
      "text/plain": [
       "<Figure size 432x288 with 1 Axes>"
      ]
     },
     "metadata": {
      "needs_background": "light"
     },
     "output_type": "display_data"
    }
   ],
   "source": [
    "AwardPlot = Awards.plot(color=\"navy\", title=\"Awards by Player\")\n",
    "AwardPlot.set_xlabel(\"Players\")\n",
    "AwardPlot.set_ylabel(\"Number of Awards\")"
   ]
  },
  {
   "cell_type": "markdown",
   "metadata": {},
   "source": [
    "It looks like only a few players are hogging most of the awards."
   ]
  },
  {
   "cell_type": "code",
   "execution_count": 24,
   "metadata": {},
   "outputs": [],
   "source": [
    "# Merging awards with main dataframe\n",
    "df = df.merge(Awards, how='left', on=\"playerID\")"
   ]
  },
  {
   "cell_type": "code",
   "execution_count": 25,
   "metadata": {},
   "outputs": [],
   "source": [
    "# Replacing \"NaN\" awards with zero\n",
    "df.awards.replace(np.NaN, 0, inplace=True)"
   ]
  },
  {
   "cell_type": "markdown",
   "metadata": {},
   "source": [
    "## Batting Scores"
   ]
  },
  {
   "cell_type": "code",
   "execution_count": 26,
   "metadata": {},
   "outputs": [],
   "source": [
    "# Reading data\n",
    "B = DataFrame(files['Batting'].copy())\n",
    "B1 = DataFrame(files['Batting'].copy())\n",
    "# To avoid dividing by zero I'm going to eliminate every entry where a player didn't get a hit\n",
    "NoHits = B1[B1['H'] == 0].index\n",
    "B1.drop(NoHits, inplace = True)\n",
    "# Copying dataframe into a smaller piece to make it easier and faster to work with\n",
    "B1 = B1.loc[ : ,['playerID','AB', 'H']]"
   ]
  },
  {
   "cell_type": "code",
   "execution_count": 27,
   "metadata": {},
   "outputs": [
    {
     "name": "stdout",
     "output_type": "stream",
     "text": [
      "The percentage of entries there was a hit is 73.2%.\n",
      "The percentage of all players who got at least one hit in their career is 75.8%\n"
     ]
    }
   ],
   "source": [
    "r1 = 100*(round((B1.shape[0])/(B.shape[0]), 3))\n",
    "r2 = 100*(round((len(B1['playerID'].unique())/len(B['playerID'].unique())), 3))\n",
    "print(f\"\"\"The percentage of entries there was a hit is {r1}%.\n",
    "The percentage of all players who got at least one hit in their career is {r2}%\"\"\".format())"
   ]
  },
  {
   "cell_type": "markdown",
   "metadata": {},
   "source": [
    "The batting average will be useful to find for player evaluation."
   ]
  },
  {
   "cell_type": "code",
   "execution_count": 28,
   "metadata": {},
   "outputs": [],
   "source": [
    "# Here is a function to return the batting average for each player\n",
    "def BatAVG(df):\n",
    "    df = df.sort_values(by='playerID', ascending=True)\n",
    "    IDs = []\n",
    "    AB = []\n",
    "    Hits = []\n",
    "    AVG = []\n",
    "    for x in df['playerID'].unique():\n",
    "        Player = df.loc[df['playerID'] == x]\n",
    "        IDs.append(x)\n",
    "        AB.append(sum(Player['AB']))\n",
    "        Hits.append(sum(Player['H']))\n",
    "        try:\n",
    "        # Adding in an exception for dividing by zero just in case\n",
    "            AVG.append(round((sum(Player['H']))/(sum(Player['AB'])), 3))\n",
    "        except:\n",
    "            AVG.append(0.000)\n",
    "    data = {'playerID':IDs, 'battingAverage':AVG, 'totalAtBats':AB, 'totalHits':Hits}\n",
    "    NewDF = pd.DataFrame(data)\n",
    "    return NewDF"
   ]
  },
  {
   "cell_type": "code",
   "execution_count": 29,
   "metadata": {},
   "outputs": [],
   "source": [
    "# This cell may take a minute or two to run\n",
    "AVGDF = BatAVG(B1)"
   ]
  },
  {
   "cell_type": "code",
   "execution_count": 30,
   "metadata": {},
   "outputs": [
    {
     "data": {
      "text/html": [
       "<div>\n",
       "<style scoped>\n",
       "    .dataframe tbody tr th:only-of-type {\n",
       "        vertical-align: middle;\n",
       "    }\n",
       "\n",
       "    .dataframe tbody tr th {\n",
       "        vertical-align: top;\n",
       "    }\n",
       "\n",
       "    .dataframe thead th {\n",
       "        text-align: right;\n",
       "    }\n",
       "</style>\n",
       "<table border=\"1\" class=\"dataframe\">\n",
       "  <thead>\n",
       "    <tr style=\"text-align: right;\">\n",
       "      <th></th>\n",
       "      <th>playerID</th>\n",
       "      <th>battingAverage</th>\n",
       "      <th>totalAtBats</th>\n",
       "      <th>totalHits</th>\n",
       "    </tr>\n",
       "  </thead>\n",
       "  <tbody>\n",
       "    <tr>\n",
       "      <th>7008</th>\n",
       "      <td>kellyme01</td>\n",
       "      <td>0.019</td>\n",
       "      <td>52</td>\n",
       "      <td>1</td>\n",
       "    </tr>\n",
       "    <tr>\n",
       "      <th>11945</th>\n",
       "      <td>sawyewi01</td>\n",
       "      <td>0.021</td>\n",
       "      <td>47</td>\n",
       "      <td>1</td>\n",
       "    </tr>\n",
       "    <tr>\n",
       "      <th>12294</th>\n",
       "      <td>sheltsk01</td>\n",
       "      <td>0.025</td>\n",
       "      <td>40</td>\n",
       "      <td>1</td>\n",
       "    </tr>\n",
       "    <tr>\n",
       "      <th>11074</th>\n",
       "      <td>raydocu01</td>\n",
       "      <td>0.026</td>\n",
       "      <td>38</td>\n",
       "      <td>1</td>\n",
       "    </tr>\n",
       "    <tr>\n",
       "      <th>1535</th>\n",
       "      <td>brizzto01</td>\n",
       "      <td>0.029</td>\n",
       "      <td>35</td>\n",
       "      <td>1</td>\n",
       "    </tr>\n",
       "    <tr>\n",
       "      <th>...</th>\n",
       "      <td>...</td>\n",
       "      <td>...</td>\n",
       "      <td>...</td>\n",
       "      <td>...</td>\n",
       "    </tr>\n",
       "    <tr>\n",
       "      <th>8303</th>\n",
       "      <td>manzajo01</td>\n",
       "      <td>1.000</td>\n",
       "      <td>1</td>\n",
       "      <td>1</td>\n",
       "    </tr>\n",
       "    <tr>\n",
       "      <th>11679</th>\n",
       "      <td>roweke01</td>\n",
       "      <td>1.000</td>\n",
       "      <td>1</td>\n",
       "      <td>1</td>\n",
       "    </tr>\n",
       "    <tr>\n",
       "      <th>11683</th>\n",
       "      <td>rowlami01</td>\n",
       "      <td>1.000</td>\n",
       "      <td>1</td>\n",
       "      <td>1</td>\n",
       "    </tr>\n",
       "    <tr>\n",
       "      <th>706</th>\n",
       "      <td>bassdo01</td>\n",
       "      <td>1.000</td>\n",
       "      <td>1</td>\n",
       "      <td>1</td>\n",
       "    </tr>\n",
       "    <tr>\n",
       "      <th>4650</th>\n",
       "      <td>garcira01</td>\n",
       "      <td>1.000</td>\n",
       "      <td>1</td>\n",
       "      <td>1</td>\n",
       "    </tr>\n",
       "  </tbody>\n",
       "</table>\n",
       "<p>14925 rows × 4 columns</p>\n",
       "</div>"
      ],
      "text/plain": [
       "        playerID  battingAverage  totalAtBats  totalHits\n",
       "7008   kellyme01           0.019           52          1\n",
       "11945  sawyewi01           0.021           47          1\n",
       "12294  sheltsk01           0.025           40          1\n",
       "11074  raydocu01           0.026           38          1\n",
       "1535   brizzto01           0.029           35          1\n",
       "...          ...             ...          ...        ...\n",
       "8303   manzajo01           1.000            1          1\n",
       "11679   roweke01           1.000            1          1\n",
       "11683  rowlami01           1.000            1          1\n",
       "706     bassdo01           1.000            1          1\n",
       "4650   garcira01           1.000            1          1\n",
       "\n",
       "[14925 rows x 4 columns]"
      ]
     },
     "execution_count": 30,
     "metadata": {},
     "output_type": "execute_result"
    }
   ],
   "source": [
    "AVGDF.sort_values(by='battingAverage')"
   ]
  },
  {
   "cell_type": "markdown",
   "metadata": {},
   "source": [
    "It's clear that players who only went to bat a few times will heavily skew the results. Batting a thousand isn't very prestegious if you've only gone to bat once. I think it's safe to get rid of the averages of anyone who has batted less than a hundred times in their career."
   ]
  },
  {
   "cell_type": "code",
   "execution_count": 31,
   "metadata": {},
   "outputs": [
    {
     "data": {
      "text/html": [
       "<div>\n",
       "<style scoped>\n",
       "    .dataframe tbody tr th:only-of-type {\n",
       "        vertical-align: middle;\n",
       "    }\n",
       "\n",
       "    .dataframe tbody tr th {\n",
       "        vertical-align: top;\n",
       "    }\n",
       "\n",
       "    .dataframe thead th {\n",
       "        text-align: right;\n",
       "    }\n",
       "</style>\n",
       "<table border=\"1\" class=\"dataframe\">\n",
       "  <thead>\n",
       "    <tr style=\"text-align: right;\">\n",
       "      <th></th>\n",
       "      <th>playerID</th>\n",
       "      <th>battingAverage</th>\n",
       "      <th>totalAtBats</th>\n",
       "      <th>totalHits</th>\n",
       "    </tr>\n",
       "  </thead>\n",
       "  <tbody>\n",
       "    <tr>\n",
       "      <th>2500</th>\n",
       "      <td>cobbty01</td>\n",
       "      <td>0.366</td>\n",
       "      <td>11436</td>\n",
       "      <td>4189</td>\n",
       "    </tr>\n",
       "    <tr>\n",
       "      <th>642</th>\n",
       "      <td>barnero01</td>\n",
       "      <td>0.360</td>\n",
       "      <td>2391</td>\n",
       "      <td>860</td>\n",
       "    </tr>\n",
       "    <tr>\n",
       "      <th>6221</th>\n",
       "      <td>hornsro01</td>\n",
       "      <td>0.358</td>\n",
       "      <td>8173</td>\n",
       "      <td>2930</td>\n",
       "    </tr>\n",
       "    <tr>\n",
       "      <th>9064</th>\n",
       "      <td>meyerle01</td>\n",
       "      <td>0.356</td>\n",
       "      <td>1443</td>\n",
       "      <td>513</td>\n",
       "    </tr>\n",
       "    <tr>\n",
       "      <th>6504</th>\n",
       "      <td>jacksjo01</td>\n",
       "      <td>0.356</td>\n",
       "      <td>4981</td>\n",
       "      <td>1772</td>\n",
       "    </tr>\n",
       "    <tr>\n",
       "      <th>...</th>\n",
       "      <td>...</td>\n",
       "      <td>...</td>\n",
       "      <td>...</td>\n",
       "      <td>...</td>\n",
       "    </tr>\n",
       "    <tr>\n",
       "      <th>9159</th>\n",
       "      <td>millera01</td>\n",
       "      <td>0.000</td>\n",
       "      <td>73</td>\n",
       "      <td>14</td>\n",
       "    </tr>\n",
       "    <tr>\n",
       "      <th>9158</th>\n",
       "      <td>milleox01</td>\n",
       "      <td>0.000</td>\n",
       "      <td>25</td>\n",
       "      <td>7</td>\n",
       "    </tr>\n",
       "    <tr>\n",
       "      <th>4597</th>\n",
       "      <td>galvilo01</td>\n",
       "      <td>0.000</td>\n",
       "      <td>9</td>\n",
       "      <td>2</td>\n",
       "    </tr>\n",
       "    <tr>\n",
       "      <th>2393</th>\n",
       "      <td>clarkbi01</td>\n",
       "      <td>0.000</td>\n",
       "      <td>22</td>\n",
       "      <td>2</td>\n",
       "    </tr>\n",
       "    <tr>\n",
       "      <th>9337</th>\n",
       "      <td>mooreeu01</td>\n",
       "      <td>0.000</td>\n",
       "      <td>79</td>\n",
       "      <td>15</td>\n",
       "    </tr>\n",
       "  </tbody>\n",
       "</table>\n",
       "<p>14925 rows × 4 columns</p>\n",
       "</div>"
      ],
      "text/plain": [
       "       playerID  battingAverage  totalAtBats  totalHits\n",
       "2500   cobbty01           0.366        11436       4189\n",
       "642   barnero01           0.360         2391        860\n",
       "6221  hornsro01           0.358         8173       2930\n",
       "9064  meyerle01           0.356         1443        513\n",
       "6504  jacksjo01           0.356         4981       1772\n",
       "...         ...             ...          ...        ...\n",
       "9159  millera01           0.000           73         14\n",
       "9158  milleox01           0.000           25          7\n",
       "4597  galvilo01           0.000            9          2\n",
       "2393  clarkbi01           0.000           22          2\n",
       "9337  mooreeu01           0.000           79         15\n",
       "\n",
       "[14925 rows x 4 columns]"
      ]
     },
     "execution_count": 31,
     "metadata": {},
     "output_type": "execute_result"
    }
   ],
   "source": [
    "AVGDF2 = AVGDF.copy()\n",
    "AVGDF2['battingAverage'] = AVGDF2['battingAverage'].where(AVGDF['totalAtBats'] >= 100, 0.000)\n",
    "AVGDF2.sort_values(by='battingAverage', ascending=False)"
   ]
  },
  {
   "cell_type": "markdown",
   "metadata": {},
   "source": [
    "The top name is easily recognizable, Ty Cobb. That's a good sign I'm doing this correctly."
   ]
  },
  {
   "cell_type": "code",
   "execution_count": 32,
   "metadata": {},
   "outputs": [
    {
     "data": {
      "image/png": "[encoded data removed]",
      "text/plain": [
       "<Figure size 432x288 with 1 Axes>"
      ]
     },
     "metadata": {
      "needs_background": "light"
     },
     "output_type": "display_data"
    }
   ],
   "source": [
    "# Here I'll plot batting averages, leaving out the zeros that skew the data\n",
    "BattingZero = AVGDF2[AVGDF2['battingAverage'] == 0].index\n",
    "AVGDF2.drop(BattingZero, inplace = True)\n",
    "toplot(AVGDF2, 'battingAverage', 50, \"Batting Averages\",\n",
    "        \"Batting Averages\", \"Number of Players\", \"hist\", \"midnightblue\")"
   ]
  },
  {
   "cell_type": "code",
   "execution_count": 33,
   "metadata": {
    "scrolled": false
   },
   "outputs": [],
   "source": [
    "df = df.merge(AVGDF, how='left', on=\"playerID\")\n",
    "# Replacing \"NaN\" awards with zero\n",
    "df.awards.replace(np.NaN, 0, inplace=True)"
   ]
  },
  {
   "cell_type": "markdown",
   "metadata": {},
   "source": [
    "## Fielding Data"
   ]
  },
  {
   "cell_type": "code",
   "execution_count": 34,
   "metadata": {
    "scrolled": true
   },
   "outputs": [
    {
     "data": {
      "text/html": [
       "<div>\n",
       "<style scoped>\n",
       "    .dataframe tbody tr th:only-of-type {\n",
       "        vertical-align: middle;\n",
       "    }\n",
       "\n",
       "    .dataframe tbody tr th {\n",
       "        vertical-align: top;\n",
       "    }\n",
       "\n",
       "    .dataframe thead th {\n",
       "        text-align: right;\n",
       "    }\n",
       "</style>\n",
       "<table border=\"1\" class=\"dataframe\">\n",
       "  <thead>\n",
       "    <tr style=\"text-align: right;\">\n",
       "      <th></th>\n",
       "      <th>playerID</th>\n",
       "      <th>yearID</th>\n",
       "      <th>stint</th>\n",
       "      <th>teamID</th>\n",
       "      <th>lgID</th>\n",
       "      <th>POS</th>\n",
       "      <th>G</th>\n",
       "      <th>GS</th>\n",
       "      <th>InnOuts</th>\n",
       "      <th>PO</th>\n",
       "      <th>A</th>\n",
       "      <th>E</th>\n",
       "      <th>DP</th>\n",
       "      <th>PB</th>\n",
       "      <th>WP</th>\n",
       "      <th>SB</th>\n",
       "      <th>CS</th>\n",
       "      <th>ZR</th>\n",
       "    </tr>\n",
       "  </thead>\n",
       "  <tbody>\n",
       "    <tr>\n",
       "      <th>143036</th>\n",
       "      <td>zeuchtj01</td>\n",
       "      <td>2019</td>\n",
       "      <td>1</td>\n",
       "      <td>TOR</td>\n",
       "      <td>AL</td>\n",
       "      <td>P</td>\n",
       "      <td>5</td>\n",
       "      <td>3.0</td>\n",
       "      <td>68.0</td>\n",
       "      <td>0</td>\n",
       "      <td>3</td>\n",
       "      <td>0.0</td>\n",
       "      <td>0</td>\n",
       "      <td>NaN</td>\n",
       "      <td>NaN</td>\n",
       "      <td>NaN</td>\n",
       "      <td>NaN</td>\n",
       "      <td>NaN</td>\n",
       "    </tr>\n",
       "    <tr>\n",
       "      <th>143037</th>\n",
       "      <td>zimmebr01</td>\n",
       "      <td>2019</td>\n",
       "      <td>1</td>\n",
       "      <td>CLE</td>\n",
       "      <td>AL</td>\n",
       "      <td>OF</td>\n",
       "      <td>5</td>\n",
       "      <td>2.0</td>\n",
       "      <td>66.0</td>\n",
       "      <td>5</td>\n",
       "      <td>0</td>\n",
       "      <td>0.0</td>\n",
       "      <td>0</td>\n",
       "      <td>NaN</td>\n",
       "      <td>NaN</td>\n",
       "      <td>NaN</td>\n",
       "      <td>NaN</td>\n",
       "      <td>NaN</td>\n",
       "    </tr>\n",
       "    <tr>\n",
       "      <th>143038</th>\n",
       "      <td>zimmejo02</td>\n",
       "      <td>2019</td>\n",
       "      <td>1</td>\n",
       "      <td>DET</td>\n",
       "      <td>AL</td>\n",
       "      <td>P</td>\n",
       "      <td>23</td>\n",
       "      <td>23.0</td>\n",
       "      <td>336.0</td>\n",
       "      <td>7</td>\n",
       "      <td>10</td>\n",
       "      <td>1.0</td>\n",
       "      <td>1</td>\n",
       "      <td>NaN</td>\n",
       "      <td>NaN</td>\n",
       "      <td>NaN</td>\n",
       "      <td>NaN</td>\n",
       "      <td>NaN</td>\n",
       "    </tr>\n",
       "    <tr>\n",
       "      <th>143039</th>\n",
       "      <td>zimmeky01</td>\n",
       "      <td>2019</td>\n",
       "      <td>1</td>\n",
       "      <td>KCA</td>\n",
       "      <td>AL</td>\n",
       "      <td>P</td>\n",
       "      <td>15</td>\n",
       "      <td>0.0</td>\n",
       "      <td>55.0</td>\n",
       "      <td>0</td>\n",
       "      <td>1</td>\n",
       "      <td>0.0</td>\n",
       "      <td>0</td>\n",
       "      <td>NaN</td>\n",
       "      <td>NaN</td>\n",
       "      <td>NaN</td>\n",
       "      <td>NaN</td>\n",
       "      <td>NaN</td>\n",
       "    </tr>\n",
       "    <tr>\n",
       "      <th>143040</th>\n",
       "      <td>zimmery01</td>\n",
       "      <td>2019</td>\n",
       "      <td>1</td>\n",
       "      <td>WAS</td>\n",
       "      <td>NL</td>\n",
       "      <td>1B</td>\n",
       "      <td>44</td>\n",
       "      <td>40.0</td>\n",
       "      <td>1038.0</td>\n",
       "      <td>307</td>\n",
       "      <td>20</td>\n",
       "      <td>3.0</td>\n",
       "      <td>24</td>\n",
       "      <td>NaN</td>\n",
       "      <td>NaN</td>\n",
       "      <td>NaN</td>\n",
       "      <td>NaN</td>\n",
       "      <td>NaN</td>\n",
       "    </tr>\n",
       "    <tr>\n",
       "      <th>143041</th>\n",
       "      <td>zobribe01</td>\n",
       "      <td>2019</td>\n",
       "      <td>1</td>\n",
       "      <td>CHN</td>\n",
       "      <td>NL</td>\n",
       "      <td>2B</td>\n",
       "      <td>32</td>\n",
       "      <td>23.0</td>\n",
       "      <td>558.0</td>\n",
       "      <td>36</td>\n",
       "      <td>54</td>\n",
       "      <td>3.0</td>\n",
       "      <td>16</td>\n",
       "      <td>NaN</td>\n",
       "      <td>NaN</td>\n",
       "      <td>NaN</td>\n",
       "      <td>NaN</td>\n",
       "      <td>NaN</td>\n",
       "    </tr>\n",
       "    <tr>\n",
       "      <th>143042</th>\n",
       "      <td>zobribe01</td>\n",
       "      <td>2019</td>\n",
       "      <td>1</td>\n",
       "      <td>CHN</td>\n",
       "      <td>NL</td>\n",
       "      <td>OF</td>\n",
       "      <td>17</td>\n",
       "      <td>14.0</td>\n",
       "      <td>341.0</td>\n",
       "      <td>22</td>\n",
       "      <td>2</td>\n",
       "      <td>0.0</td>\n",
       "      <td>0</td>\n",
       "      <td>NaN</td>\n",
       "      <td>NaN</td>\n",
       "      <td>NaN</td>\n",
       "      <td>NaN</td>\n",
       "      <td>NaN</td>\n",
       "    </tr>\n",
       "    <tr>\n",
       "      <th>143043</th>\n",
       "      <td>zobribe01</td>\n",
       "      <td>2019</td>\n",
       "      <td>1</td>\n",
       "      <td>CHN</td>\n",
       "      <td>NL</td>\n",
       "      <td>P</td>\n",
       "      <td>1</td>\n",
       "      <td>0.0</td>\n",
       "      <td>3.0</td>\n",
       "      <td>0</td>\n",
       "      <td>0</td>\n",
       "      <td>0.0</td>\n",
       "      <td>0</td>\n",
       "      <td>NaN</td>\n",
       "      <td>NaN</td>\n",
       "      <td>NaN</td>\n",
       "      <td>NaN</td>\n",
       "      <td>NaN</td>\n",
       "    </tr>\n",
       "    <tr>\n",
       "      <th>143044</th>\n",
       "      <td>zobribe01</td>\n",
       "      <td>2019</td>\n",
       "      <td>1</td>\n",
       "      <td>CHN</td>\n",
       "      <td>NL</td>\n",
       "      <td>SS</td>\n",
       "      <td>1</td>\n",
       "      <td>0.0</td>\n",
       "      <td>6.0</td>\n",
       "      <td>0</td>\n",
       "      <td>0</td>\n",
       "      <td>0.0</td>\n",
       "      <td>0</td>\n",
       "      <td>NaN</td>\n",
       "      <td>NaN</td>\n",
       "      <td>NaN</td>\n",
       "      <td>NaN</td>\n",
       "      <td>NaN</td>\n",
       "    </tr>\n",
       "    <tr>\n",
       "      <th>143045</th>\n",
       "      <td>zuninmi01</td>\n",
       "      <td>2019</td>\n",
       "      <td>1</td>\n",
       "      <td>TBA</td>\n",
       "      <td>AL</td>\n",
       "      <td>C</td>\n",
       "      <td>89</td>\n",
       "      <td>78.0</td>\n",
       "      <td>2069.0</td>\n",
       "      <td>764</td>\n",
       "      <td>37</td>\n",
       "      <td>6.0</td>\n",
       "      <td>7</td>\n",
       "      <td>4.0</td>\n",
       "      <td>NaN</td>\n",
       "      <td>27.0</td>\n",
       "      <td>17.0</td>\n",
       "      <td>NaN</td>\n",
       "    </tr>\n",
       "  </tbody>\n",
       "</table>\n",
       "</div>"
      ],
      "text/plain": [
       "         playerID  yearID  stint teamID lgID POS   G    GS  InnOuts   PO   A  \\\n",
       "143036  zeuchtj01    2019      1    TOR   AL   P   5   3.0     68.0    0   3   \n",
       "143037  zimmebr01    2019      1    CLE   AL  OF   5   2.0     66.0    5   0   \n",
       "143038  zimmejo02    2019      1    DET   AL   P  23  23.0    336.0    7  10   \n",
       "143039  zimmeky01    2019      1    KCA   AL   P  15   0.0     55.0    0   1   \n",
       "143040  zimmery01    2019      1    WAS   NL  1B  44  40.0   1038.0  307  20   \n",
       "143041  zobribe01    2019      1    CHN   NL  2B  32  23.0    558.0   36  54   \n",
       "143042  zobribe01    2019      1    CHN   NL  OF  17  14.0    341.0   22   2   \n",
       "143043  zobribe01    2019      1    CHN   NL   P   1   0.0      3.0    0   0   \n",
       "143044  zobribe01    2019      1    CHN   NL  SS   1   0.0      6.0    0   0   \n",
       "143045  zuninmi01    2019      1    TBA   AL   C  89  78.0   2069.0  764  37   \n",
       "\n",
       "          E  DP   PB  WP    SB    CS  ZR  \n",
       "143036  0.0   0  NaN NaN   NaN   NaN NaN  \n",
       "143037  0.0   0  NaN NaN   NaN   NaN NaN  \n",
       "143038  1.0   1  NaN NaN   NaN   NaN NaN  \n",
       "143039  0.0   0  NaN NaN   NaN   NaN NaN  \n",
       "143040  3.0  24  NaN NaN   NaN   NaN NaN  \n",
       "143041  3.0  16  NaN NaN   NaN   NaN NaN  \n",
       "143042  0.0   0  NaN NaN   NaN   NaN NaN  \n",
       "143043  0.0   0  NaN NaN   NaN   NaN NaN  \n",
       "143044  0.0   0  NaN NaN   NaN   NaN NaN  \n",
       "143045  6.0   7  4.0 NaN  27.0  17.0 NaN  "
      ]
     },
     "metadata": {},
     "output_type": "display_data"
    }
   ],
   "source": [
    "F = files['Fielding'].copy()\n",
    "display_all(F.tail(10))"
   ]
  },
  {
   "cell_type": "markdown",
   "metadata": {},
   "source": [
    "There are several categories in this set that are unique to certain positions, particularly catchers. While it might be useful evaluating specific positions, generally speaking non-pitcher players can play all the fielding positions with roughly the same skill.\n",
    "\n",
    "It will be useful to distinguish between pitchers and non-pitchers and evaluate them separately though."
   ]
  },
  {
   "cell_type": "code",
   "execution_count": 35,
   "metadata": {
    "scrolled": true
   },
   "outputs": [
    {
     "name": "stdout",
     "output_type": "stream",
     "text": [
      "<class 'pandas.core.frame.DataFrame'>\n",
      "RangeIndex: 143046 entries, 0 to 143045\n",
      "Data columns (total 7 columns):\n",
      " #   Column       Non-Null Count   Dtype  \n",
      "---  ------       --------------   -----  \n",
      " 0   playerID     143046 non-null  object \n",
      " 1   putOuts      143046 non-null  int64  \n",
      " 2   assists      143046 non-null  int64  \n",
      " 3   errors       143045 non-null  float64\n",
      " 4   doublePlays  143046 non-null  int64  \n",
      " 5   InnOuts      113117 non-null  float64\n",
      " 6   Games        143046 non-null  int64  \n",
      "dtypes: float64(2), int64(4), object(1)\n",
      "memory usage: 7.6+ MB\n"
     ]
    }
   ],
   "source": [
    "F = F.loc[ : ,['playerID', 'PO', 'A', 'E', 'DP', 'InnOuts', 'G']]\n",
    "F.rename(columns = {'PO':'putOuts','A':'assists','E':'errors',\n",
    "                    'DP':'doublePlays', 'G':'Games'}, inplace = True)\n",
    "F.info()"
   ]
  },
  {
   "cell_type": "code",
   "execution_count": 36,
   "metadata": {},
   "outputs": [],
   "source": [
    "# There's only one missing errors value\n",
    "F = F.dropna()"
   ]
  },
  {
   "cell_type": "code",
   "execution_count": 37,
   "metadata": {},
   "outputs": [],
   "source": [
    "# Here is a function to unmelt the data\n",
    "def Data(df, column):\n",
    "    InterimDF = df.loc[ : ,['playerID',column]]\n",
    "    IDs = []\n",
    "    stats = []\n",
    "    IDF = InterimDF['playerID'].sort_values()\n",
    "    for x in IDF.unique():\n",
    "        IDs.append(x)\n",
    "        Player = InterimDF.loc[IDF == x]\n",
    "        Stat = sum(Player[column])\n",
    "        stats.append(Stat)\n",
    "    data = {'playerID':IDs, 'stat':stats}\n",
    "    NewDF = pd.DataFrame(data)\n",
    "    return NewDF"
   ]
  },
  {
   "cell_type": "code",
   "execution_count": 38,
   "metadata": {},
   "outputs": [],
   "source": [
    "# Again these may take quite a while.\n",
    "FE = Data(F, 'putOuts')"
   ]
  },
  {
   "cell_type": "code",
   "execution_count": 39,
   "metadata": {},
   "outputs": [],
   "source": [
    "FI = Data(F, 'assists')"
   ]
  },
  {
   "cell_type": "code",
   "execution_count": 40,
   "metadata": {},
   "outputs": [],
   "source": [
    "FO = Data(F, 'errors')"
   ]
  },
  {
   "cell_type": "code",
   "execution_count": 41,
   "metadata": {},
   "outputs": [],
   "source": [
    "FUM = Data(F, 'doublePlays')"
   ]
  },
  {
   "cell_type": "code",
   "execution_count": 42,
   "metadata": {},
   "outputs": [],
   "source": [
    "English = Data(F, 'Games')"
   ]
  },
  {
   "cell_type": "code",
   "execution_count": 43,
   "metadata": {},
   "outputs": [],
   "source": [
    "Man = [FE,FI,FO,FUM,English]"
   ]
  },
  {
   "cell_type": "code",
   "execution_count": 44,
   "metadata": {},
   "outputs": [],
   "source": [
    "Giant = F.columns.tolist()[1:]"
   ]
  },
  {
   "cell_type": "code",
   "execution_count": 45,
   "metadata": {},
   "outputs": [],
   "source": [
    "# Renaming columns\n",
    "for x in list(range(len(Man))):\n",
    "    Man[x].rename(columns = {'stat':Giant[x]}, inplace = True)"
   ]
  },
  {
   "cell_type": "code",
   "execution_count": 46,
   "metadata": {},
   "outputs": [],
   "source": [
    "# Adding all the stats back into the main database\n",
    "for x in Man:\n",
    "    df = df.merge(x, how='left', on=\"playerID\")"
   ]
  },
  {
   "cell_type": "markdown",
   "metadata": {},
   "source": [
    "## Pitching Data"
   ]
  },
  {
   "cell_type": "code",
   "execution_count": 47,
   "metadata": {},
   "outputs": [
    {
     "data": {
      "text/html": [
       "<div>\n",
       "<style scoped>\n",
       "    .dataframe tbody tr th:only-of-type {\n",
       "        vertical-align: middle;\n",
       "    }\n",
       "\n",
       "    .dataframe tbody tr th {\n",
       "        vertical-align: top;\n",
       "    }\n",
       "\n",
       "    .dataframe thead th {\n",
       "        text-align: right;\n",
       "    }\n",
       "</style>\n",
       "<table border=\"1\" class=\"dataframe\">\n",
       "  <thead>\n",
       "    <tr style=\"text-align: right;\">\n",
       "      <th></th>\n",
       "      <th>playerID</th>\n",
       "      <th>yearID</th>\n",
       "      <th>stint</th>\n",
       "      <th>teamID</th>\n",
       "      <th>lgID</th>\n",
       "      <th>W</th>\n",
       "      <th>L</th>\n",
       "      <th>G</th>\n",
       "      <th>GS</th>\n",
       "      <th>CG</th>\n",
       "      <th>SHO</th>\n",
       "      <th>SV</th>\n",
       "      <th>IPouts</th>\n",
       "      <th>H</th>\n",
       "      <th>ER</th>\n",
       "      <th>HR</th>\n",
       "      <th>BB</th>\n",
       "      <th>SO</th>\n",
       "      <th>BAOpp</th>\n",
       "      <th>ERA</th>\n",
       "      <th>IBB</th>\n",
       "      <th>WP</th>\n",
       "      <th>HBP</th>\n",
       "      <th>BK</th>\n",
       "      <th>BFP</th>\n",
       "      <th>GF</th>\n",
       "      <th>R</th>\n",
       "      <th>SH</th>\n",
       "      <th>SF</th>\n",
       "      <th>GIDP</th>\n",
       "    </tr>\n",
       "  </thead>\n",
       "  <tbody>\n",
       "    <tr>\n",
       "      <th>0</th>\n",
       "      <td>bechtge01</td>\n",
       "      <td>1871</td>\n",
       "      <td>1</td>\n",
       "      <td>PH1</td>\n",
       "      <td>NaN</td>\n",
       "      <td>1</td>\n",
       "      <td>2</td>\n",
       "      <td>3</td>\n",
       "      <td>3</td>\n",
       "      <td>2</td>\n",
       "      <td>0</td>\n",
       "      <td>0</td>\n",
       "      <td>78</td>\n",
       "      <td>43</td>\n",
       "      <td>23</td>\n",
       "      <td>0</td>\n",
       "      <td>11</td>\n",
       "      <td>1</td>\n",
       "      <td>NaN</td>\n",
       "      <td>7.96</td>\n",
       "      <td>NaN</td>\n",
       "      <td>7</td>\n",
       "      <td>NaN</td>\n",
       "      <td>0</td>\n",
       "      <td>146.0</td>\n",
       "      <td>0</td>\n",
       "      <td>42</td>\n",
       "      <td>NaN</td>\n",
       "      <td>NaN</td>\n",
       "      <td>NaN</td>\n",
       "    </tr>\n",
       "    <tr>\n",
       "      <th>1</th>\n",
       "      <td>brainas01</td>\n",
       "      <td>1871</td>\n",
       "      <td>1</td>\n",
       "      <td>WS3</td>\n",
       "      <td>NaN</td>\n",
       "      <td>12</td>\n",
       "      <td>15</td>\n",
       "      <td>30</td>\n",
       "      <td>30</td>\n",
       "      <td>30</td>\n",
       "      <td>0</td>\n",
       "      <td>0</td>\n",
       "      <td>792</td>\n",
       "      <td>361</td>\n",
       "      <td>132</td>\n",
       "      <td>4</td>\n",
       "      <td>37</td>\n",
       "      <td>13</td>\n",
       "      <td>NaN</td>\n",
       "      <td>4.50</td>\n",
       "      <td>NaN</td>\n",
       "      <td>7</td>\n",
       "      <td>NaN</td>\n",
       "      <td>0</td>\n",
       "      <td>1291.0</td>\n",
       "      <td>0</td>\n",
       "      <td>292</td>\n",
       "      <td>NaN</td>\n",
       "      <td>NaN</td>\n",
       "      <td>NaN</td>\n",
       "    </tr>\n",
       "    <tr>\n",
       "      <th>2</th>\n",
       "      <td>fergubo01</td>\n",
       "      <td>1871</td>\n",
       "      <td>1</td>\n",
       "      <td>NY2</td>\n",
       "      <td>NaN</td>\n",
       "      <td>0</td>\n",
       "      <td>0</td>\n",
       "      <td>1</td>\n",
       "      <td>0</td>\n",
       "      <td>0</td>\n",
       "      <td>0</td>\n",
       "      <td>0</td>\n",
       "      <td>3</td>\n",
       "      <td>8</td>\n",
       "      <td>3</td>\n",
       "      <td>0</td>\n",
       "      <td>0</td>\n",
       "      <td>0</td>\n",
       "      <td>NaN</td>\n",
       "      <td>27.00</td>\n",
       "      <td>NaN</td>\n",
       "      <td>2</td>\n",
       "      <td>NaN</td>\n",
       "      <td>0</td>\n",
       "      <td>14.0</td>\n",
       "      <td>0</td>\n",
       "      <td>9</td>\n",
       "      <td>NaN</td>\n",
       "      <td>NaN</td>\n",
       "      <td>NaN</td>\n",
       "    </tr>\n",
       "    <tr>\n",
       "      <th>3</th>\n",
       "      <td>fishech01</td>\n",
       "      <td>1871</td>\n",
       "      <td>1</td>\n",
       "      <td>RC1</td>\n",
       "      <td>NaN</td>\n",
       "      <td>4</td>\n",
       "      <td>16</td>\n",
       "      <td>24</td>\n",
       "      <td>24</td>\n",
       "      <td>22</td>\n",
       "      <td>1</td>\n",
       "      <td>0</td>\n",
       "      <td>639</td>\n",
       "      <td>295</td>\n",
       "      <td>103</td>\n",
       "      <td>3</td>\n",
       "      <td>31</td>\n",
       "      <td>15</td>\n",
       "      <td>NaN</td>\n",
       "      <td>4.35</td>\n",
       "      <td>NaN</td>\n",
       "      <td>20</td>\n",
       "      <td>NaN</td>\n",
       "      <td>0</td>\n",
       "      <td>1080.0</td>\n",
       "      <td>1</td>\n",
       "      <td>257</td>\n",
       "      <td>NaN</td>\n",
       "      <td>NaN</td>\n",
       "      <td>NaN</td>\n",
       "    </tr>\n",
       "    <tr>\n",
       "      <th>4</th>\n",
       "      <td>fleetfr01</td>\n",
       "      <td>1871</td>\n",
       "      <td>1</td>\n",
       "      <td>NY2</td>\n",
       "      <td>NaN</td>\n",
       "      <td>0</td>\n",
       "      <td>1</td>\n",
       "      <td>1</td>\n",
       "      <td>1</td>\n",
       "      <td>1</td>\n",
       "      <td>0</td>\n",
       "      <td>0</td>\n",
       "      <td>27</td>\n",
       "      <td>20</td>\n",
       "      <td>10</td>\n",
       "      <td>0</td>\n",
       "      <td>3</td>\n",
       "      <td>0</td>\n",
       "      <td>NaN</td>\n",
       "      <td>10.00</td>\n",
       "      <td>NaN</td>\n",
       "      <td>0</td>\n",
       "      <td>NaN</td>\n",
       "      <td>0</td>\n",
       "      <td>57.0</td>\n",
       "      <td>0</td>\n",
       "      <td>21</td>\n",
       "      <td>NaN</td>\n",
       "      <td>NaN</td>\n",
       "      <td>NaN</td>\n",
       "    </tr>\n",
       "    <tr>\n",
       "      <th>5</th>\n",
       "      <td>flowedi01</td>\n",
       "      <td>1871</td>\n",
       "      <td>1</td>\n",
       "      <td>TRO</td>\n",
       "      <td>NaN</td>\n",
       "      <td>0</td>\n",
       "      <td>0</td>\n",
       "      <td>1</td>\n",
       "      <td>0</td>\n",
       "      <td>0</td>\n",
       "      <td>0</td>\n",
       "      <td>0</td>\n",
       "      <td>3</td>\n",
       "      <td>1</td>\n",
       "      <td>0</td>\n",
       "      <td>0</td>\n",
       "      <td>0</td>\n",
       "      <td>0</td>\n",
       "      <td>NaN</td>\n",
       "      <td>0.00</td>\n",
       "      <td>NaN</td>\n",
       "      <td>0</td>\n",
       "      <td>NaN</td>\n",
       "      <td>0</td>\n",
       "      <td>3.0</td>\n",
       "      <td>1</td>\n",
       "      <td>0</td>\n",
       "      <td>NaN</td>\n",
       "      <td>NaN</td>\n",
       "      <td>NaN</td>\n",
       "    </tr>\n",
       "    <tr>\n",
       "      <th>6</th>\n",
       "      <td>mackde01</td>\n",
       "      <td>1871</td>\n",
       "      <td>1</td>\n",
       "      <td>RC1</td>\n",
       "      <td>NaN</td>\n",
       "      <td>0</td>\n",
       "      <td>1</td>\n",
       "      <td>3</td>\n",
       "      <td>1</td>\n",
       "      <td>1</td>\n",
       "      <td>0</td>\n",
       "      <td>0</td>\n",
       "      <td>39</td>\n",
       "      <td>20</td>\n",
       "      <td>5</td>\n",
       "      <td>0</td>\n",
       "      <td>3</td>\n",
       "      <td>1</td>\n",
       "      <td>NaN</td>\n",
       "      <td>3.46</td>\n",
       "      <td>NaN</td>\n",
       "      <td>1</td>\n",
       "      <td>NaN</td>\n",
       "      <td>0</td>\n",
       "      <td>70.0</td>\n",
       "      <td>1</td>\n",
       "      <td>30</td>\n",
       "      <td>NaN</td>\n",
       "      <td>NaN</td>\n",
       "      <td>NaN</td>\n",
       "    </tr>\n",
       "    <tr>\n",
       "      <th>7</th>\n",
       "      <td>mathebo01</td>\n",
       "      <td>1871</td>\n",
       "      <td>1</td>\n",
       "      <td>FW1</td>\n",
       "      <td>NaN</td>\n",
       "      <td>6</td>\n",
       "      <td>11</td>\n",
       "      <td>19</td>\n",
       "      <td>19</td>\n",
       "      <td>19</td>\n",
       "      <td>1</td>\n",
       "      <td>0</td>\n",
       "      <td>507</td>\n",
       "      <td>261</td>\n",
       "      <td>97</td>\n",
       "      <td>5</td>\n",
       "      <td>21</td>\n",
       "      <td>17</td>\n",
       "      <td>NaN</td>\n",
       "      <td>5.17</td>\n",
       "      <td>NaN</td>\n",
       "      <td>15</td>\n",
       "      <td>NaN</td>\n",
       "      <td>2</td>\n",
       "      <td>876.0</td>\n",
       "      <td>0</td>\n",
       "      <td>243</td>\n",
       "      <td>NaN</td>\n",
       "      <td>NaN</td>\n",
       "      <td>NaN</td>\n",
       "    </tr>\n",
       "    <tr>\n",
       "      <th>8</th>\n",
       "      <td>mcbridi01</td>\n",
       "      <td>1871</td>\n",
       "      <td>1</td>\n",
       "      <td>PH1</td>\n",
       "      <td>NaN</td>\n",
       "      <td>18</td>\n",
       "      <td>5</td>\n",
       "      <td>25</td>\n",
       "      <td>25</td>\n",
       "      <td>25</td>\n",
       "      <td>0</td>\n",
       "      <td>0</td>\n",
       "      <td>666</td>\n",
       "      <td>285</td>\n",
       "      <td>113</td>\n",
       "      <td>3</td>\n",
       "      <td>40</td>\n",
       "      <td>15</td>\n",
       "      <td>NaN</td>\n",
       "      <td>4.58</td>\n",
       "      <td>NaN</td>\n",
       "      <td>3</td>\n",
       "      <td>NaN</td>\n",
       "      <td>0</td>\n",
       "      <td>1059.0</td>\n",
       "      <td>0</td>\n",
       "      <td>223</td>\n",
       "      <td>NaN</td>\n",
       "      <td>NaN</td>\n",
       "      <td>NaN</td>\n",
       "    </tr>\n",
       "    <tr>\n",
       "      <th>9</th>\n",
       "      <td>mcmuljo01</td>\n",
       "      <td>1871</td>\n",
       "      <td>1</td>\n",
       "      <td>TRO</td>\n",
       "      <td>NaN</td>\n",
       "      <td>12</td>\n",
       "      <td>15</td>\n",
       "      <td>29</td>\n",
       "      <td>29</td>\n",
       "      <td>28</td>\n",
       "      <td>0</td>\n",
       "      <td>0</td>\n",
       "      <td>747</td>\n",
       "      <td>430</td>\n",
       "      <td>153</td>\n",
       "      <td>4</td>\n",
       "      <td>75</td>\n",
       "      <td>12</td>\n",
       "      <td>NaN</td>\n",
       "      <td>5.53</td>\n",
       "      <td>NaN</td>\n",
       "      <td>44</td>\n",
       "      <td>NaN</td>\n",
       "      <td>0</td>\n",
       "      <td>1334.0</td>\n",
       "      <td>0</td>\n",
       "      <td>362</td>\n",
       "      <td>NaN</td>\n",
       "      <td>NaN</td>\n",
       "      <td>NaN</td>\n",
       "    </tr>\n",
       "  </tbody>\n",
       "</table>\n",
       "</div>"
      ],
      "text/plain": [
       "    playerID  yearID  stint teamID lgID   W   L   G  GS  CG  SHO  SV  IPouts  \\\n",
       "0  bechtge01    1871      1    PH1  NaN   1   2   3   3   2    0   0      78   \n",
       "1  brainas01    1871      1    WS3  NaN  12  15  30  30  30    0   0     792   \n",
       "2  fergubo01    1871      1    NY2  NaN   0   0   1   0   0    0   0       3   \n",
       "3  fishech01    1871      1    RC1  NaN   4  16  24  24  22    1   0     639   \n",
       "4  fleetfr01    1871      1    NY2  NaN   0   1   1   1   1    0   0      27   \n",
       "5  flowedi01    1871      1    TRO  NaN   0   0   1   0   0    0   0       3   \n",
       "6   mackde01    1871      1    RC1  NaN   0   1   3   1   1    0   0      39   \n",
       "7  mathebo01    1871      1    FW1  NaN   6  11  19  19  19    1   0     507   \n",
       "8  mcbridi01    1871      1    PH1  NaN  18   5  25  25  25    0   0     666   \n",
       "9  mcmuljo01    1871      1    TRO  NaN  12  15  29  29  28    0   0     747   \n",
       "\n",
       "     H   ER  HR  BB  SO  BAOpp    ERA  IBB  WP  HBP  BK     BFP  GF    R  SH  \\\n",
       "0   43   23   0  11   1    NaN   7.96  NaN   7  NaN   0   146.0   0   42 NaN   \n",
       "1  361  132   4  37  13    NaN   4.50  NaN   7  NaN   0  1291.0   0  292 NaN   \n",
       "2    8    3   0   0   0    NaN  27.00  NaN   2  NaN   0    14.0   0    9 NaN   \n",
       "3  295  103   3  31  15    NaN   4.35  NaN  20  NaN   0  1080.0   1  257 NaN   \n",
       "4   20   10   0   3   0    NaN  10.00  NaN   0  NaN   0    57.0   0   21 NaN   \n",
       "5    1    0   0   0   0    NaN   0.00  NaN   0  NaN   0     3.0   1    0 NaN   \n",
       "6   20    5   0   3   1    NaN   3.46  NaN   1  NaN   0    70.0   1   30 NaN   \n",
       "7  261   97   5  21  17    NaN   5.17  NaN  15  NaN   2   876.0   0  243 NaN   \n",
       "8  285  113   3  40  15    NaN   4.58  NaN   3  NaN   0  1059.0   0  223 NaN   \n",
       "9  430  153   4  75  12    NaN   5.53  NaN  44  NaN   0  1334.0   0  362 NaN   \n",
       "\n",
       "   SF  GIDP  \n",
       "0 NaN   NaN  \n",
       "1 NaN   NaN  \n",
       "2 NaN   NaN  \n",
       "3 NaN   NaN  \n",
       "4 NaN   NaN  \n",
       "5 NaN   NaN  \n",
       "6 NaN   NaN  \n",
       "7 NaN   NaN  \n",
       "8 NaN   NaN  \n",
       "9 NaN   NaN  "
      ]
     },
     "metadata": {},
     "output_type": "display_data"
    }
   ],
   "source": [
    "Pitching = files['Pitching'].copy()\n",
    "display_all(Pitching.head(10))"
   ]
  },
  {
   "cell_type": "code",
   "execution_count": 48,
   "metadata": {},
   "outputs": [],
   "source": [
    "Pitching = Pitching.loc[ : ,['playerID','W','G','SO','BFP','H','ERA','IPouts','ER']]"
   ]
  },
  {
   "cell_type": "code",
   "execution_count": 49,
   "metadata": {},
   "outputs": [
    {
     "name": "stdout",
     "output_type": "stream",
     "text": [
      "<class 'pandas.core.frame.DataFrame'>\n",
      "RangeIndex: 47628 entries, 0 to 47627\n",
      "Data columns (total 9 columns):\n",
      " #   Column          Non-Null Count  Dtype  \n",
      "---  ------          --------------  -----  \n",
      " 0   playerID        47628 non-null  object \n",
      " 1   wins            47628 non-null  int64  \n",
      " 2   games           47628 non-null  int64  \n",
      " 3   strikeOuts      47628 non-null  int64  \n",
      " 4   battersFaced    47625 non-null  float64\n",
      " 5   hits            47628 non-null  int64  \n",
      " 6   ERA             47534 non-null  float64\n",
      " 7   inningsPitched  47628 non-null  int64  \n",
      " 8   earnedRuns      47628 non-null  int64  \n",
      "dtypes: float64(2), int64(6), object(1)\n",
      "memory usage: 3.3+ MB\n"
     ]
    }
   ],
   "source": [
    "# These seem like a good number of categories to assess pitchers\n",
    "Pitching.rename(columns = {'W':'wins','G':'games','SO':'strikeOuts','BFP':'battersFaced',\n",
    "                           'H':'hits','IPouts':'inningsPitched','ER':'earnedRuns'}, inplace = True)\n",
    "Pitching.info()"
   ]
  },
  {
   "cell_type": "markdown",
   "metadata": {},
   "source": [
    "Interestingly, ERA has a few N/A values, whereas earned runs and \"IPouts\", or innings pitched, does not. That means that instead of eliminating the N/A values I can simply calculate the ERA for each pitcher. This is good because it will be easier to do that for the player career anyway, and that's what I'm interested in."
   ]
  },
  {
   "cell_type": "code",
   "execution_count": 50,
   "metadata": {},
   "outputs": [],
   "source": [
    "Pitching.drop('ERA', axis=1, inplace=True)"
   ]
  },
  {
   "cell_type": "markdown",
   "metadata": {},
   "source": [
    "The first thing I should do is unmelt the data to make it similar to the other data and merge."
   ]
  },
  {
   "cell_type": "code",
   "execution_count": 51,
   "metadata": {},
   "outputs": [],
   "source": [
    "# This may take a long time, again\n",
    "Eeny = Data(Pitching, 'wins')"
   ]
  },
  {
   "cell_type": "code",
   "execution_count": 52,
   "metadata": {},
   "outputs": [],
   "source": [
    "Meeny = Data(Pitching, 'games')"
   ]
  },
  {
   "cell_type": "code",
   "execution_count": 53,
   "metadata": {},
   "outputs": [],
   "source": [
    "Miny = Data(Pitching, 'strikeOuts')"
   ]
  },
  {
   "cell_type": "code",
   "execution_count": 54,
   "metadata": {},
   "outputs": [],
   "source": [
    "Moe = Data(Pitching, 'battersFaced')"
   ]
  },
  {
   "cell_type": "code",
   "execution_count": 55,
   "metadata": {},
   "outputs": [],
   "source": [
    "Catch = Data(Pitching, 'hits')"
   ]
  },
  {
   "cell_type": "code",
   "execution_count": 56,
   "metadata": {
    "scrolled": true
   },
   "outputs": [],
   "source": [
    "Tiger = Data(Pitching, 'inningsPitched')"
   ]
  },
  {
   "cell_type": "code",
   "execution_count": 57,
   "metadata": {},
   "outputs": [],
   "source": [
    "Toe = Data(Pitching, 'earnedRuns')"
   ]
  },
  {
   "cell_type": "code",
   "execution_count": 58,
   "metadata": {},
   "outputs": [],
   "source": [
    "Holler = [Eeny, Meeny, Miny, Moe, Catch, Tiger, Toe]\n",
    "LetGo = Pitching.columns.tolist()[1:]"
   ]
  },
  {
   "cell_type": "code",
   "execution_count": 59,
   "metadata": {},
   "outputs": [],
   "source": [
    "# Renaming columns\n",
    "for x in list(range(len(Holler))):\n",
    "    Holler[x].rename(columns = {'stat':LetGo[x]}, inplace = True)"
   ]
  },
  {
   "cell_type": "code",
   "execution_count": 60,
   "metadata": {},
   "outputs": [],
   "source": [
    "# Making new categories from the data with this function.\n",
    "def Divide(df, col1, col2, precision=4):\n",
    "    stat = []\n",
    "    for x in df.index.to_list():\n",
    "        A = float(df[col1][x])\n",
    "        B = float(df[col2][x])\n",
    "        try:\n",
    "            stat.append(round((A/B), precision))\n",
    "        except:\n",
    "            stat.append(0.000)\n",
    "    return stat"
   ]
  },
  {
   "cell_type": "markdown",
   "metadata": {},
   "source": [
    "Here I'll make a histogram of players and their wins per game, ignoring those that played very few."
   ]
  },
  {
   "cell_type": "code",
   "execution_count": 61,
   "metadata": {},
   "outputs": [
    {
     "data": {
      "text/plain": [
       "16.983707063072142"
      ]
     },
     "execution_count": 61,
     "metadata": {},
     "output_type": "execute_result"
    }
   ],
   "source": [
    "P2 = Pitching.copy()\n",
    "P2['winsPerGame'] = Divide(P2, 'wins', 'games')\n",
    "P2['strikeoutsPerBatter'] = Divide(P2, 'strikeOuts', 'battersFaced')\n",
    "P2['hitsPerBatter'] = Divide(P2, 'hits', 'battersFaced')\n",
    "P2['winsPerGame'] = P2['winsPerGame'].where(P2['games'] >= 40, 0.000)\n",
    "P2['strikeoutsPerBatter'] = P2['strikeoutsPerBatter'].where(P2['games'] >= 40, 0.000)\n",
    "P2['hitsPerBatter'] = P2['hitsPerBatter'].where(P2['games'] >= 40, 0.000)\n",
    "PitchingZero = P2[P2['winsPerGame'] == 0.0000].index\n",
    "P2.drop(PitchingZero, inplace = True)\n",
    "100*(P2.shape[0]/Pitching.shape[0])"
   ]
  },
  {
   "cell_type": "markdown",
   "metadata": {},
   "source": [
    "This only leaves us with around fifteen percent of all entries."
   ]
  },
  {
   "cell_type": "code",
   "execution_count": 62,
   "metadata": {},
   "outputs": [
    {
     "data": {
      "image/png": "[encoded data removed]",
      "text/plain": [
       "<Figure size 432x288 with 1 Axes>"
      ]
     },
     "metadata": {
      "needs_background": "light"
     },
     "output_type": "display_data"
    }
   ],
   "source": [
    "toplot(P2, 'winsPerGame', 50, \"Pitching Stats\",\n",
    "        \"Wins Per Game\", \"Number of Players\", \"hist\", \"crimson\")"
   ]
  },
  {
   "cell_type": "markdown",
   "metadata": {},
   "source": [
    "This is before unmelting the data, however, which means it's organized by year rather than player. If this significantly differs from the data where the players entire careers are evaluated then that would be interesting."
   ]
  },
  {
   "cell_type": "code",
   "execution_count": 63,
   "metadata": {},
   "outputs": [],
   "source": [
    "# Making a dataframe to merge others to\n",
    "PitcherStats = DataFrame(Eeny['playerID'])\n",
    "# Then merging the rest into it\n",
    "for column in list(range(len(LetGo))):\n",
    "    PitcherStats = PitcherStats.merge(Holler[column], how='left', on=\"playerID\")"
   ]
  },
  {
   "cell_type": "code",
   "execution_count": 64,
   "metadata": {},
   "outputs": [],
   "source": [
    "# Here I'm merging the main stats for pitchers only\n",
    "PitcherStats = PitcherStats.merge(df, how='left', on=\"playerID\")"
   ]
  },
  {
   "cell_type": "code",
   "execution_count": 65,
   "metadata": {},
   "outputs": [
    {
     "data": {
      "text/plain": [
       "49.080751650584055"
      ]
     },
     "execution_count": 65,
     "metadata": {},
     "output_type": "execute_result"
    }
   ],
   "source": [
    "P3 = PitcherStats.copy()\n",
    "P3['winsPerGame'] = Divide(P3, 'wins', 'games')\n",
    "P3['strikeoutsPerBatter'] = Divide(P3, 'strikeOuts', 'battersFaced')\n",
    "P3['hitsPerBatter'] = Divide(P3, 'hits', 'battersFaced')\n",
    "P3['winsPerGame'] = P3['winsPerGame'].where(P3['games'] >= 40, 0.000)\n",
    "P3['strikeoutsPerBatter'] = P3['strikeoutsPerBatter'].where(P3['games'] >= 40, 0.000)\n",
    "P3['hitsPerBatter'] = P3['hitsPerBatter'].where(P3['games'] >= 40, 0.000)\n",
    "PitchZero = P3[P3['winsPerGame'] == 0.0000].index\n",
    "P3.drop(PitchZero, inplace = True)\n",
    "100*(P3.shape[0]/PitcherStats.shape[0])"
   ]
  },
  {
   "cell_type": "markdown",
   "metadata": {},
   "source": [
    "It jumps to almost half when talking about all players, but that still means half of MLB players in history haven't played more than 40 games!"
   ]
  },
  {
   "cell_type": "code",
   "execution_count": 66,
   "metadata": {
    "scrolled": true
   },
   "outputs": [
    {
     "data": {
      "image/png": "[encoded data removed]",
      "text/plain": [
       "<Figure size 432x288 with 1 Axes>"
      ]
     },
     "metadata": {
      "needs_background": "light"
     },
     "output_type": "display_data"
    }
   ],
   "source": [
    "toplot(P3, 'winsPerGame', 50, \"Pitching Stats\",\n",
    "        \"Wins Per Game\", \"Number of Players\", \"hist\", \"crimson\")"
   ]
  },
  {
   "cell_type": "markdown",
   "metadata": {},
   "source": [
    "This looks like a more reasonable distribution."
   ]
  },
  {
   "cell_type": "markdown",
   "metadata": {},
   "source": [
    "## Finishing the Data Cleaning"
   ]
  },
  {
   "cell_type": "code",
   "execution_count": 67,
   "metadata": {},
   "outputs": [],
   "source": [
    "# Here I'm getting the fielders by subtracting the pitchers\n",
    "FielderStats = df.copy()\n",
    "Plist = PitcherStats.playerID.to_list()\n",
    "FielderStats = FielderStats[~FielderStats.playerID.isin(Plist)]"
   ]
  },
  {
   "cell_type": "code",
   "execution_count": 68,
   "metadata": {
    "scrolled": false
   },
   "outputs": [
    {
     "data": {
      "text/html": [
       "<div>\n",
       "<style scoped>\n",
       "    .dataframe tbody tr th:only-of-type {\n",
       "        vertical-align: middle;\n",
       "    }\n",
       "\n",
       "    .dataframe tbody tr th {\n",
       "        vertical-align: top;\n",
       "    }\n",
       "\n",
       "    .dataframe thead th {\n",
       "        text-align: right;\n",
       "    }\n",
       "</style>\n",
       "<table border=\"1\" class=\"dataframe\">\n",
       "  <thead>\n",
       "    <tr style=\"text-align: right;\">\n",
       "      <th></th>\n",
       "      <th>playerID</th>\n",
       "      <th>birthYear</th>\n",
       "      <th>weight</th>\n",
       "      <th>height</th>\n",
       "      <th>startingAge</th>\n",
       "      <th>timePlayed</th>\n",
       "      <th>endingAge</th>\n",
       "      <th>awards</th>\n",
       "      <th>battingAverage</th>\n",
       "      <th>totalAtBats</th>\n",
       "      <th>totalHits</th>\n",
       "      <th>putOuts</th>\n",
       "      <th>assists</th>\n",
       "      <th>errors</th>\n",
       "      <th>doublePlays</th>\n",
       "      <th>InnOuts</th>\n",
       "    </tr>\n",
       "  </thead>\n",
       "  <tbody>\n",
       "    <tr>\n",
       "      <th>135</th>\n",
       "      <td>ahearch01</td>\n",
       "      <td>1858.0</td>\n",
       "      <td>NaN</td>\n",
       "      <td>NaN</td>\n",
       "      <td>NaN</td>\n",
       "      <td>NaN</td>\n",
       "      <td>NaN</td>\n",
       "      <td>0</td>\n",
       "      <td>0.250</td>\n",
       "      <td>4.0</td>\n",
       "      <td>1.0</td>\n",
       "      <td>2.0</td>\n",
       "      <td>5.0</td>\n",
       "      <td>2.0</td>\n",
       "      <td>0.0</td>\n",
       "      <td>1.0</td>\n",
       "    </tr>\n",
       "    <tr>\n",
       "      <th>490</th>\n",
       "      <td>armoubi99</td>\n",
       "      <td>1869.0</td>\n",
       "      <td>NaN</td>\n",
       "      <td>NaN</td>\n",
       "      <td>NaN</td>\n",
       "      <td>NaN</td>\n",
       "      <td>NaN</td>\n",
       "      <td>0</td>\n",
       "      <td>NaN</td>\n",
       "      <td>NaN</td>\n",
       "      <td>NaN</td>\n",
       "      <td>NaN</td>\n",
       "      <td>NaN</td>\n",
       "      <td>NaN</td>\n",
       "      <td>NaN</td>\n",
       "      <td>NaN</td>\n",
       "    </tr>\n",
       "    <tr>\n",
       "      <th>556</th>\n",
       "      <td>atkined01</td>\n",
       "      <td>1851.0</td>\n",
       "      <td>NaN</td>\n",
       "      <td>NaN</td>\n",
       "      <td>NaN</td>\n",
       "      <td>NaN</td>\n",
       "      <td>NaN</td>\n",
       "      <td>0</td>\n",
       "      <td>NaN</td>\n",
       "      <td>NaN</td>\n",
       "      <td>NaN</td>\n",
       "      <td>1.0</td>\n",
       "      <td>0.0</td>\n",
       "      <td>0.0</td>\n",
       "      <td>0.0</td>\n",
       "      <td>2.0</td>\n",
       "    </tr>\n",
       "    <tr>\n",
       "      <th>760</th>\n",
       "      <td>banckst01</td>\n",
       "      <td>1853.0</td>\n",
       "      <td>NaN</td>\n",
       "      <td>NaN</td>\n",
       "      <td>NaN</td>\n",
       "      <td>NaN</td>\n",
       "      <td>NaN</td>\n",
       "      <td>0</td>\n",
       "      <td>0.153</td>\n",
       "      <td>72.0</td>\n",
       "      <td>11.0</td>\n",
       "      <td>47.0</td>\n",
       "      <td>31.0</td>\n",
       "      <td>23.0</td>\n",
       "      <td>2.0</td>\n",
       "      <td>23.0</td>\n",
       "    </tr>\n",
       "    <tr>\n",
       "      <th>762</th>\n",
       "      <td>bancrfr99</td>\n",
       "      <td>1846.0</td>\n",
       "      <td>NaN</td>\n",
       "      <td>NaN</td>\n",
       "      <td>NaN</td>\n",
       "      <td>NaN</td>\n",
       "      <td>NaN</td>\n",
       "      <td>0</td>\n",
       "      <td>NaN</td>\n",
       "      <td>NaN</td>\n",
       "      <td>NaN</td>\n",
       "      <td>NaN</td>\n",
       "      <td>NaN</td>\n",
       "      <td>NaN</td>\n",
       "      <td>NaN</td>\n",
       "      <td>NaN</td>\n",
       "    </tr>\n",
       "    <tr>\n",
       "      <th>...</th>\n",
       "      <td>...</td>\n",
       "      <td>...</td>\n",
       "      <td>...</td>\n",
       "      <td>...</td>\n",
       "      <td>...</td>\n",
       "      <td>...</td>\n",
       "      <td>...</td>\n",
       "      <td>...</td>\n",
       "      <td>...</td>\n",
       "      <td>...</td>\n",
       "      <td>...</td>\n",
       "      <td>...</td>\n",
       "      <td>...</td>\n",
       "      <td>...</td>\n",
       "      <td>...</td>\n",
       "      <td>...</td>\n",
       "    </tr>\n",
       "    <tr>\n",
       "      <th>6407</th>\n",
       "      <td>geninfr01</td>\n",
       "      <td>1866.0</td>\n",
       "      <td>NaN</td>\n",
       "      <td>NaN</td>\n",
       "      <td>25.50</td>\n",
       "      <td>9.00</td>\n",
       "      <td>34.50</td>\n",
       "      <td>0</td>\n",
       "      <td>0.226</td>\n",
       "      <td>514.0</td>\n",
       "      <td>116.0</td>\n",
       "      <td>279.0</td>\n",
       "      <td>215.0</td>\n",
       "      <td>64.0</td>\n",
       "      <td>22.0</td>\n",
       "      <td>147.0</td>\n",
       "    </tr>\n",
       "    <tr>\n",
       "      <th>7451</th>\n",
       "      <td>harbibi01</td>\n",
       "      <td>1855.0</td>\n",
       "      <td>162.0</td>\n",
       "      <td>NaN</td>\n",
       "      <td>20.17</td>\n",
       "      <td>9.42</td>\n",
       "      <td>29.58</td>\n",
       "      <td>0</td>\n",
       "      <td>0.247</td>\n",
       "      <td>1510.0</td>\n",
       "      <td>373.0</td>\n",
       "      <td>1155.0</td>\n",
       "      <td>316.0</td>\n",
       "      <td>267.0</td>\n",
       "      <td>23.0</td>\n",
       "      <td>401.0</td>\n",
       "    </tr>\n",
       "    <tr>\n",
       "      <th>924</th>\n",
       "      <td>barrysh01</td>\n",
       "      <td>1878.0</td>\n",
       "      <td>NaN</td>\n",
       "      <td>NaN</td>\n",
       "      <td>20.58</td>\n",
       "      <td>9.42</td>\n",
       "      <td>30.00</td>\n",
       "      <td>0</td>\n",
       "      <td>0.267</td>\n",
       "      <td>4014.0</td>\n",
       "      <td>1073.0</td>\n",
       "      <td>4099.0</td>\n",
       "      <td>565.0</td>\n",
       "      <td>189.0</td>\n",
       "      <td>191.0</td>\n",
       "      <td>1076.0</td>\n",
       "    </tr>\n",
       "    <tr>\n",
       "      <th>5483</th>\n",
       "      <td>farrojo01</td>\n",
       "      <td>1853.0</td>\n",
       "      <td>NaN</td>\n",
       "      <td>NaN</td>\n",
       "      <td>19.42</td>\n",
       "      <td>11.17</td>\n",
       "      <td>30.58</td>\n",
       "      <td>0</td>\n",
       "      <td>0.197</td>\n",
       "      <td>228.0</td>\n",
       "      <td>45.0</td>\n",
       "      <td>190.0</td>\n",
       "      <td>102.0</td>\n",
       "      <td>79.0</td>\n",
       "      <td>7.0</td>\n",
       "      <td>62.0</td>\n",
       "    </tr>\n",
       "    <tr>\n",
       "      <th>8257</th>\n",
       "      <td>holbebi01</td>\n",
       "      <td>1855.0</td>\n",
       "      <td>197.0</td>\n",
       "      <td>NaN</td>\n",
       "      <td>21.50</td>\n",
       "      <td>11.83</td>\n",
       "      <td>33.33</td>\n",
       "      <td>0</td>\n",
       "      <td>0.208</td>\n",
       "      <td>2335.0</td>\n",
       "      <td>486.0</td>\n",
       "      <td>3032.0</td>\n",
       "      <td>1101.0</td>\n",
       "      <td>440.0</td>\n",
       "      <td>86.0</td>\n",
       "      <td>638.0</td>\n",
       "    </tr>\n",
       "  </tbody>\n",
       "</table>\n",
       "<p>503 rows × 16 columns</p>\n",
       "</div>"
      ],
      "text/plain": [
       "       playerID  birthYear  weight  height  startingAge  timePlayed  \\\n",
       "135   ahearch01     1858.0     NaN     NaN          NaN         NaN   \n",
       "490   armoubi99     1869.0     NaN     NaN          NaN         NaN   \n",
       "556   atkined01     1851.0     NaN     NaN          NaN         NaN   \n",
       "760   banckst01     1853.0     NaN     NaN          NaN         NaN   \n",
       "762   bancrfr99     1846.0     NaN     NaN          NaN         NaN   \n",
       "...         ...        ...     ...     ...          ...         ...   \n",
       "6407  geninfr01     1866.0     NaN     NaN        25.50        9.00   \n",
       "7451  harbibi01     1855.0   162.0     NaN        20.17        9.42   \n",
       "924   barrysh01     1878.0     NaN     NaN        20.58        9.42   \n",
       "5483  farrojo01     1853.0     NaN     NaN        19.42       11.17   \n",
       "8257  holbebi01     1855.0   197.0     NaN        21.50       11.83   \n",
       "\n",
       "      endingAge  awards  battingAverage  totalAtBats  totalHits  putOuts  \\\n",
       "135         NaN       0           0.250          4.0        1.0      2.0   \n",
       "490         NaN       0             NaN          NaN        NaN      NaN   \n",
       "556         NaN       0             NaN          NaN        NaN      1.0   \n",
       "760         NaN       0           0.153         72.0       11.0     47.0   \n",
       "762         NaN       0             NaN          NaN        NaN      NaN   \n",
       "...         ...     ...             ...          ...        ...      ...   \n",
       "6407      34.50       0           0.226        514.0      116.0    279.0   \n",
       "7451      29.58       0           0.247       1510.0      373.0   1155.0   \n",
       "924       30.00       0           0.267       4014.0     1073.0   4099.0   \n",
       "5483      30.58       0           0.197        228.0       45.0    190.0   \n",
       "8257      33.33       0           0.208       2335.0      486.0   3032.0   \n",
       "\n",
       "      assists  errors  doublePlays  InnOuts  \n",
       "135       5.0     2.0          0.0      1.0  \n",
       "490       NaN     NaN          NaN      NaN  \n",
       "556       0.0     0.0          0.0      2.0  \n",
       "760      31.0    23.0          2.0     23.0  \n",
       "762       NaN     NaN          NaN      NaN  \n",
       "...       ...     ...          ...      ...  \n",
       "6407    215.0    64.0         22.0    147.0  \n",
       "7451    316.0   267.0         23.0    401.0  \n",
       "924     565.0   189.0        191.0   1076.0  \n",
       "5483    102.0    79.0          7.0     62.0  \n",
       "8257   1101.0   440.0         86.0    638.0  \n",
       "\n",
       "[503 rows x 16 columns]"
      ]
     },
     "execution_count": 68,
     "metadata": {},
     "output_type": "execute_result"
    }
   ],
   "source": [
    "# If players have too many N/A values they will skew the data\n",
    "# However, as can be seen, sometimes they are only missing one or two\n",
    "NoHeightList = FielderStats.copy()\n",
    "NoHeightList = NoHeightList[NoHeightList.height >= 0]\n",
    "NoHeightList = NoHeightList.playerID.to_list()\n",
    "NoHeightList = FielderStats[~FielderStats.playerID.isin(NoHeightList)]\n",
    "NoHeightList.sort_values(by=\"timePlayed\", na_position='first')"
   ]
  },
  {
   "cell_type": "code",
   "execution_count": 69,
   "metadata": {},
   "outputs": [
    {
     "data": {
      "text/plain": [
       "16    6393\n",
       "11    2386\n",
       "8      585\n",
       "13     292\n",
       "14     191\n",
       "3       99\n",
       "5       91\n",
       "15      66\n",
       "10      66\n",
       "7       43\n",
       "12      21\n",
       "6        7\n",
       "9        4\n",
       "2        1\n",
       "Name: Value Counts, dtype: int64"
      ]
     },
     "execution_count": 69,
     "metadata": {},
     "output_type": "execute_result"
    }
   ],
   "source": [
    "# This creates a new column counting how many NaN values\n",
    "# each row has\n",
    "FielderStats['Value Counts'] = FielderStats.count(axis='columns')\n",
    "FielderStats['Value Counts'].value_counts()"
   ]
  },
  {
   "cell_type": "markdown",
   "metadata": {},
   "source": [
    "Some of them have their player ID and the fact that they didn't receive an award. Not the most useful.\n",
    "\n",
    "Getting rid of those that have ten or less values doesn't eliminate too many in the Fielder stats."
   ]
  },
  {
   "cell_type": "code",
   "execution_count": 70,
   "metadata": {},
   "outputs": [],
   "source": [
    "# Here's a function that removes problem values\n",
    "def CleanData(df,col,t=0.0001,T=99999):\n",
    "    AList = df[df[col] <= t]\n",
    "    BList = df[df[col] >= T]\n",
    "    AList = AList.playerID.to_list()\n",
    "    BList = BList.playerID.to_list()\n",
    "    CList = AList + BList\n",
    "    df = df[~df.playerID.isin(CList)]\n",
    "#    df.dropna(subset=[col], inplace=True)\n",
    "    return df"
   ]
  },
  {
   "cell_type": "code",
   "execution_count": 71,
   "metadata": {
    "scrolled": true
   },
   "outputs": [],
   "source": [
    "FielderStats = CleanData(FielderStats,'Value Counts', 10)"
   ]
  },
  {
   "cell_type": "markdown",
   "metadata": {},
   "source": [
    "Unfortunately there are many players who didn't have fielding stats. I don't think it's possible to make a good model without them. I'm going to make the attempt anyway and see how it turns out, but for my main model I'll drop them."
   ]
  },
  {
   "cell_type": "code",
   "execution_count": 72,
   "metadata": {},
   "outputs": [],
   "source": [
    "NoField = FielderStats.copy()\n",
    "FielderStats.dropna(subset=['putOuts'], inplace=True)\n",
    "NoField.drop(['putOuts', 'assists', 'errors', 'doublePlays', 'InnOuts'], axis=1, inplace=True)"
   ]
  },
  {
   "cell_type": "code",
   "execution_count": 73,
   "metadata": {},
   "outputs": [],
   "source": [
    "# There are very few NA values without the fielding data\n",
    "NoField = NoField.dropna()"
   ]
  },
  {
   "cell_type": "code",
   "execution_count": 74,
   "metadata": {},
   "outputs": [],
   "source": [
    "# This function fills NaN values with a random integer in an interval\n",
    "def Replace(df,column,low,high,interval=5.0, dtype=float):\n",
    "    numbers = np.arange(low, high, interval, dtype=dtype)\n",
    "    array = np.random.choice(numbers, size=df.shape[0])\n",
    "    df[column]=df[column].mask(pd.isnull, array)"
   ]
  },
  {
   "cell_type": "code",
   "execution_count": 75,
   "metadata": {},
   "outputs": [],
   "source": [
    "# This replaces the few NA values with a random number\n",
    "# according to the stats with the most\n",
    "Replace(FielderStats,\"weight\",170.0,190.0)\n",
    "Replace(FielderStats,\"height\",68,75,1)\n",
    "FielderStats = CleanData(FielderStats,'timePlayed', 0.08)\n",
    "FielderStats.dropna(subset=['birthYear'], inplace=True)"
   ]
  },
  {
   "cell_type": "markdown",
   "metadata": {},
   "source": [
    "After that there are very few NA values left that I need to worry about."
   ]
  },
  {
   "cell_type": "code",
   "execution_count": 76,
   "metadata": {},
   "outputs": [],
   "source": [
    "FielderStats = FielderStats.dropna()"
   ]
  },
  {
   "cell_type": "markdown",
   "metadata": {},
   "source": [
    "Innings pitched is actually calculated here outs, so in order to get ERA which is calculated per nine innings, or 27 outs, I'll just divide by 27."
   ]
  },
  {
   "cell_type": "code",
   "execution_count": 77,
   "metadata": {},
   "outputs": [],
   "source": [
    "PitcherStats = CleanData(PitcherStats,'inningsPitched', 50)\n",
    "PitcherStats = CleanData(PitcherStats,'timePlayed', 0.08)\n",
    "PitcherStats['inningsPitched'] /= 27\n",
    "PitcherStats['ERA'] = Divide(PitcherStats, 'earnedRuns', 'inningsPitched', precision=3)"
   ]
  },
  {
   "cell_type": "code",
   "execution_count": 78,
   "metadata": {},
   "outputs": [],
   "source": [
    "# This simplifies by turning whether the pitcher has also batted into a binary\n",
    "# then drops the other columns\n",
    "PitcherStats['battingAverage'] = PitcherStats['battingAverage'].where(PitcherStats['battingAverage'] >= -1, 1)\n",
    "PitcherStats['battingAverage'] = PitcherStats['battingAverage'].where(PitcherStats['battingAverage'] == 1, 0)\n",
    "PitcherStats.rename(columns = {'battingAverage':'hasntBatted'}, inplace = True)"
   ]
  },
  {
   "cell_type": "code",
   "execution_count": 79,
   "metadata": {},
   "outputs": [],
   "source": [
    "# Like the ERA I think these could also be useful stats\n",
    "PitcherStats['stikeOutAVG'] = Divide(PitcherStats, 'strikeOuts', 'inningsPitched', 3)\n",
    "PitcherStats['errorAVG'] = Divide(PitcherStats, 'errors', 'inningsPitched', 3)\n",
    "PitcherStats['assistAVG'] = Divide(PitcherStats, 'assists', 'inningsPitched', 3)\n",
    "PitcherStats['DoublePlayAVG'] = Divide(PitcherStats, 'doublePlays', 'inningsPitched', 3)\n",
    "PitcherStats['BattersAVG'] = Divide(PitcherStats, 'battersFaced', 'inningsPitched', 3)\n",
    "PitcherStats['WinsAVG'] = Divide(PitcherStats, 'wins', 'inningsPitched', 3)"
   ]
  },
  {
   "cell_type": "code",
   "execution_count": 80,
   "metadata": {},
   "outputs": [],
   "source": [
    "# Here I'm getting a list of columns to drop\n",
    "drop = PitcherStats.columns.tolist()\n",
    "todrop = [drop[1:8]]\n",
    "todrop.append(drop[12:14])\n",
    "todrop.append(drop[16:21])\n",
    "# this makes it one list instead of a list of lists\n",
    "todrop = [item for elem in todrop for item in elem]"
   ]
  },
  {
   "cell_type": "code",
   "execution_count": 81,
   "metadata": {},
   "outputs": [],
   "source": [
    "# And finally dropping all extraneous columns\n",
    "PitcherStats.drop(todrop, axis=1, inplace=True)\n",
    "PitcherStats = PitcherStats.dropna()"
   ]
  },
  {
   "cell_type": "code",
   "execution_count": 82,
   "metadata": {},
   "outputs": [],
   "source": [
    "# Adding a couple more useful categories. Unfortunately I don't have \n",
    "# The number of innings played for Fielders, just the amount of time in years\n",
    "FielderStats = FielderStats.sort_values(by='playerID')\n",
    "FielderStats['AVGAtBats'] = Divide(FielderStats, 'totalAtBats', 'timePlayed', 2)\n",
    "FielderStats['AVGHits'] = Divide(FielderStats, 'totalAtBats', 'timePlayed', 2)\n",
    "FielderStats['errorAVG'] = Divide(FielderStats, 'errors', 'timePlayed', 3)\n",
    "FielderStats['assistAVG'] = Divide(FielderStats, 'assists', 'timePlayed', 3)\n",
    "FielderStats['DoublePlayAVG'] = Divide(FielderStats, 'doublePlays', 'timePlayed', 3)"
   ]
  },
  {
   "cell_type": "code",
   "execution_count": 85,
   "metadata": {},
   "outputs": [],
   "source": [
    "drop = FielderStats.columns.tolist()\n",
    "FielderStats.drop(drop[9], axis=1, inplace=True)\n",
    "FielderStats.drop(drop[14:16], axis=1, inplace=True)"
   ]
  },
  {
   "cell_type": "code",
   "execution_count": 86,
   "metadata": {},
   "outputs": [
    {
     "name": "stdout",
     "output_type": "stream",
     "text": [
      "5926\n",
      "5646\n"
     ]
    }
   ],
   "source": [
    "# There are still several thousand of each\n",
    "print(FielderStats.shape[0])\n",
    "print(PitcherStats.shape[0])"
   ]
  },
  {
   "cell_type": "code",
   "execution_count": 87,
   "metadata": {},
   "outputs": [],
   "source": [
    "# Exporting to csv to use a new Notebook\n",
    "FielderStats.to_csv('FielderStats.csv', index=False)\n",
    "PitcherStats.to_csv('PitcherStats.csv', index=False)\n",
    "NoField.to_csv('NoField.csv', index=False)"
   ]
  }
 ],
 "metadata": {
  "kernelspec": {
   "display_name": "Python 3",
   "language": "python",
   "name": "python3"
  },
  "language_info": {
   "codemirror_mode": {
    "name": "ipython",
    "version": 3
   },
   "file_extension": ".py",
   "mimetype": "text/x-python",
   "name": "python",
   "nbconvert_exporter": "python",
   "pygments_lexer": "ipython3",
   "version": "3.8.5"
  }
 },
 "nbformat": 4,
 "nbformat_minor": 4
}
