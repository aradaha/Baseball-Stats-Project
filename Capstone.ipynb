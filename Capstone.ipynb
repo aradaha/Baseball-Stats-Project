{
 "cells": [
  {
   "cell_type": "markdown",
   "metadata": {},
   "source": [
    "# Capstone Project"
   ]
  },
  {
   "cell_type": "markdown",
   "metadata": {},
   "source": [
    "Reuben Hough"
   ]
  },
  {
   "cell_type": "code",
   "execution_count": 1,
   "metadata": {
    "scrolled": false
   },
   "outputs": [
    {
     "name": "stderr",
     "output_type": "stream",
     "text": [
      "<ipython-input-1-e1ef54be840b>:3: FutureWarning: pandas.util.testing is deprecated. Use the functions in the public API at pandas.testing instead.\n",
      "  import pandas.util.testing as tm\n"
     ]
    }
   ],
   "source": [
    "# Importing Libraries\n",
    "import pandas as pd\n",
    "import pandas.util.testing as tm\n",
    "from pandas import DataFrame\n",
    "from pandas.plotting import register_matplotlib_converters\n",
    "import numpy as np\n",
    "import matplotlib.pyplot as plt\n",
    "from sklearn.neighbors import KNeighborsClassifier, KNeighborsRegressor\n",
    "from mpl_toolkits.mplot3d import Axes3D\n",
    "from sklearn.preprocessing import LabelEncoder\n",
    "import seaborn as sns\n",
    "import os\n",
    "%matplotlib inline\n",
    "import sys\n",
    "from sklearn import metrics\n",
    "from sklearn.model_selection import train_test_split\n",
    "from sklearn.ensemble import RandomForestClassifier\n",
    "from sklearn.preprocessing import LabelEncoder\n",
    "from sklearn.neighbors import KNeighborsClassifier, KNeighborsRegressor\n",
    "from sklearn.ensemble import AdaBoostClassifier, GradientBoostingClassifier\n",
    "from sklearn.metrics import confusion_matrix\n",
    "from sklearn.metrics import mean_squared_error\n",
    "from sklearn.metrics import roc_curve, auc\n",
    "from sklearn.tree import DecisionTreeClassifier\n",
    "from sklearn.linear_model import RidgeClassifier\n",
    "from numpy import random\n",
    "import datetime as dt\n",
    "from datetime import timedelta\n",
    "from dateutil.relativedelta import relativedelta\n",
    "import statsmodels.api as sm\n",
    "from statsmodels.tsa.stattools import acf, pacf\n",
    "from statsmodels.tsa.statespace.sarimax import SARIMAX as SX\n",
    "from statsmodels.tsa.seasonal import seasonal_decompose as decomp\n",
    "from statsmodels.tsa.stattools import adfuller\n",
    "import itertools\n",
    "register_matplotlib_converters()\n",
    "from time import time\n",
    "import math\n",
    "from fbprophet import Prophet"
   ]
  },
  {
   "cell_type": "markdown",
   "metadata": {},
   "source": [
    "## Data Observation and Cleaning"
   ]
  },
  {
   "cell_type": "code",
   "execution_count": 2,
   "metadata": {},
   "outputs": [],
   "source": [
    "# This function displays all columns when looking at the data\n",
    "def display_all(df):\n",
    "    with pd.option_context('display.max_rows', 1000):\n",
    "        with pd.option_context('display.max_columns', 1000):\n",
    "            display(df)"
   ]
  },
  {
   "cell_type": "code",
   "execution_count": 3,
   "metadata": {},
   "outputs": [],
   "source": [
    "# Assigning all csv files to a variable\n",
    "data = [\"AllstarFull.csv\",\"Appearances.csv\",\"AwardsManagers.csv\",\n",
    "        \"AwardsPlayers.csv\",\"AwardsShareManagers.csv\",\"AwardsSharePlayers.csv\",\n",
    "        \"Batting.csv\",\"BattingPost.csv\",\"CollegePlaying.csv\",\n",
    "        \"Fielding.csv\",\"FieldingOF.csv\",\"FieldingOFsplit.csv\",\n",
    "        \"FieldingPost.csv\",\"HallOfFame.csv\",\"HomeGames.csv\",\"Managers.csv\",\n",
    "        \"ManagersHalf.csv\",\"Parks.csv\",\"People.csv\",\"Pitching.csv\",\n",
    "        \"PitchingPost.csv\",\"Salaries.csv\",\"Schools.csv\",\"SeriesPost.csv\",\n",
    "        \"Teams.csv\",\"TeamsFranchises.csv\",\"TeamsHalf.csv\"]"
   ]
  },
  {
   "cell_type": "code",
   "execution_count": 4,
   "metadata": {},
   "outputs": [],
   "source": [
    "# Creating a dictionary for filenames\n",
    "dictum = {}\n",
    "files = {}\n",
    "for x in data:\n",
    "    dictum[x] = pd.read_csv(x)\n",
    "for x in dictum:\n",
    "    # Removing all \".csv\" and making lowercase\n",
    "    cleaned = os.path.basename(x).replace('.csv', '')\n",
    "    # Re-reading files after name change\n",
    "    df = pd.read_csv(x)\n",
    "    # Adding to \"files\" dictionary\n",
    "    files[cleaned] = df"
   ]
  },
  {
   "cell_type": "code",
   "execution_count": 5,
   "metadata": {},
   "outputs": [
    {
     "data": {
      "text/html": [
       "<div>\n",
       "<style scoped>\n",
       "    .dataframe tbody tr th:only-of-type {\n",
       "        vertical-align: middle;\n",
       "    }\n",
       "\n",
       "    .dataframe tbody tr th {\n",
       "        vertical-align: top;\n",
       "    }\n",
       "\n",
       "    .dataframe thead th {\n",
       "        text-align: right;\n",
       "    }\n",
       "</style>\n",
       "<table border=\"1\" class=\"dataframe\">\n",
       "  <thead>\n",
       "    <tr style=\"text-align: right;\">\n",
       "      <th></th>\n",
       "      <th>playerID</th>\n",
       "      <th>birthYear</th>\n",
       "      <th>birthMonth</th>\n",
       "      <th>birthDay</th>\n",
       "      <th>birthCountry</th>\n",
       "      <th>birthState</th>\n",
       "      <th>birthCity</th>\n",
       "      <th>deathYear</th>\n",
       "      <th>deathMonth</th>\n",
       "      <th>deathDay</th>\n",
       "      <th>deathCountry</th>\n",
       "      <th>deathState</th>\n",
       "      <th>deathCity</th>\n",
       "      <th>nameFirst</th>\n",
       "      <th>nameLast</th>\n",
       "      <th>nameGiven</th>\n",
       "      <th>weight</th>\n",
       "      <th>height</th>\n",
       "      <th>bats</th>\n",
       "      <th>throws</th>\n",
       "      <th>debut</th>\n",
       "      <th>finalGame</th>\n",
       "      <th>retroID</th>\n",
       "      <th>bbrefID</th>\n",
       "    </tr>\n",
       "  </thead>\n",
       "  <tbody>\n",
       "    <tr>\n",
       "      <th>0</th>\n",
       "      <td>aardsda01</td>\n",
       "      <td>1981.0</td>\n",
       "      <td>12.0</td>\n",
       "      <td>27.0</td>\n",
       "      <td>USA</td>\n",
       "      <td>CO</td>\n",
       "      <td>Denver</td>\n",
       "      <td>NaN</td>\n",
       "      <td>NaN</td>\n",
       "      <td>NaN</td>\n",
       "      <td>NaN</td>\n",
       "      <td>NaN</td>\n",
       "      <td>NaN</td>\n",
       "      <td>David</td>\n",
       "      <td>Aardsma</td>\n",
       "      <td>David Allan</td>\n",
       "      <td>215.0</td>\n",
       "      <td>75.0</td>\n",
       "      <td>R</td>\n",
       "      <td>R</td>\n",
       "      <td>2004-04-06</td>\n",
       "      <td>2015-08-23</td>\n",
       "      <td>aardd001</td>\n",
       "      <td>aardsda01</td>\n",
       "    </tr>\n",
       "    <tr>\n",
       "      <th>1</th>\n",
       "      <td>aaronha01</td>\n",
       "      <td>1934.0</td>\n",
       "      <td>2.0</td>\n",
       "      <td>5.0</td>\n",
       "      <td>USA</td>\n",
       "      <td>AL</td>\n",
       "      <td>Mobile</td>\n",
       "      <td>NaN</td>\n",
       "      <td>NaN</td>\n",
       "      <td>NaN</td>\n",
       "      <td>NaN</td>\n",
       "      <td>NaN</td>\n",
       "      <td>NaN</td>\n",
       "      <td>Hank</td>\n",
       "      <td>Aaron</td>\n",
       "      <td>Henry Louis</td>\n",
       "      <td>180.0</td>\n",
       "      <td>72.0</td>\n",
       "      <td>R</td>\n",
       "      <td>R</td>\n",
       "      <td>1954-04-13</td>\n",
       "      <td>1976-10-03</td>\n",
       "      <td>aaroh101</td>\n",
       "      <td>aaronha01</td>\n",
       "    </tr>\n",
       "    <tr>\n",
       "      <th>2</th>\n",
       "      <td>aaronto01</td>\n",
       "      <td>1939.0</td>\n",
       "      <td>8.0</td>\n",
       "      <td>5.0</td>\n",
       "      <td>USA</td>\n",
       "      <td>AL</td>\n",
       "      <td>Mobile</td>\n",
       "      <td>1984.0</td>\n",
       "      <td>8.0</td>\n",
       "      <td>16.0</td>\n",
       "      <td>USA</td>\n",
       "      <td>GA</td>\n",
       "      <td>Atlanta</td>\n",
       "      <td>Tommie</td>\n",
       "      <td>Aaron</td>\n",
       "      <td>Tommie Lee</td>\n",
       "      <td>190.0</td>\n",
       "      <td>75.0</td>\n",
       "      <td>R</td>\n",
       "      <td>R</td>\n",
       "      <td>1962-04-10</td>\n",
       "      <td>1971-09-26</td>\n",
       "      <td>aarot101</td>\n",
       "      <td>aaronto01</td>\n",
       "    </tr>\n",
       "    <tr>\n",
       "      <th>3</th>\n",
       "      <td>aasedo01</td>\n",
       "      <td>1954.0</td>\n",
       "      <td>9.0</td>\n",
       "      <td>8.0</td>\n",
       "      <td>USA</td>\n",
       "      <td>CA</td>\n",
       "      <td>Orange</td>\n",
       "      <td>NaN</td>\n",
       "      <td>NaN</td>\n",
       "      <td>NaN</td>\n",
       "      <td>NaN</td>\n",
       "      <td>NaN</td>\n",
       "      <td>NaN</td>\n",
       "      <td>Don</td>\n",
       "      <td>Aase</td>\n",
       "      <td>Donald William</td>\n",
       "      <td>190.0</td>\n",
       "      <td>75.0</td>\n",
       "      <td>R</td>\n",
       "      <td>R</td>\n",
       "      <td>1977-07-26</td>\n",
       "      <td>1990-10-03</td>\n",
       "      <td>aased001</td>\n",
       "      <td>aasedo01</td>\n",
       "    </tr>\n",
       "    <tr>\n",
       "      <th>4</th>\n",
       "      <td>abadan01</td>\n",
       "      <td>1972.0</td>\n",
       "      <td>8.0</td>\n",
       "      <td>25.0</td>\n",
       "      <td>USA</td>\n",
       "      <td>FL</td>\n",
       "      <td>Palm Beach</td>\n",
       "      <td>NaN</td>\n",
       "      <td>NaN</td>\n",
       "      <td>NaN</td>\n",
       "      <td>NaN</td>\n",
       "      <td>NaN</td>\n",
       "      <td>NaN</td>\n",
       "      <td>Andy</td>\n",
       "      <td>Abad</td>\n",
       "      <td>Fausto Andres</td>\n",
       "      <td>184.0</td>\n",
       "      <td>73.0</td>\n",
       "      <td>L</td>\n",
       "      <td>L</td>\n",
       "      <td>2001-09-10</td>\n",
       "      <td>2006-04-13</td>\n",
       "      <td>abada001</td>\n",
       "      <td>abadan01</td>\n",
       "    </tr>\n",
       "    <tr>\n",
       "      <th>...</th>\n",
       "      <td>...</td>\n",
       "      <td>...</td>\n",
       "      <td>...</td>\n",
       "      <td>...</td>\n",
       "      <td>...</td>\n",
       "      <td>...</td>\n",
       "      <td>...</td>\n",
       "      <td>...</td>\n",
       "      <td>...</td>\n",
       "      <td>...</td>\n",
       "      <td>...</td>\n",
       "      <td>...</td>\n",
       "      <td>...</td>\n",
       "      <td>...</td>\n",
       "      <td>...</td>\n",
       "      <td>...</td>\n",
       "      <td>...</td>\n",
       "      <td>...</td>\n",
       "      <td>...</td>\n",
       "      <td>...</td>\n",
       "      <td>...</td>\n",
       "      <td>...</td>\n",
       "      <td>...</td>\n",
       "      <td>...</td>\n",
       "    </tr>\n",
       "    <tr>\n",
       "      <th>20085</th>\n",
       "      <td>zupofr01</td>\n",
       "      <td>1939.0</td>\n",
       "      <td>8.0</td>\n",
       "      <td>29.0</td>\n",
       "      <td>USA</td>\n",
       "      <td>CA</td>\n",
       "      <td>San Francisco</td>\n",
       "      <td>2005.0</td>\n",
       "      <td>3.0</td>\n",
       "      <td>25.0</td>\n",
       "      <td>USA</td>\n",
       "      <td>CA</td>\n",
       "      <td>Burlingame</td>\n",
       "      <td>Frank</td>\n",
       "      <td>Zupo</td>\n",
       "      <td>Frank Joseph</td>\n",
       "      <td>182.0</td>\n",
       "      <td>71.0</td>\n",
       "      <td>L</td>\n",
       "      <td>R</td>\n",
       "      <td>1957-07-01</td>\n",
       "      <td>1961-05-09</td>\n",
       "      <td>zupof101</td>\n",
       "      <td>zupofr01</td>\n",
       "    </tr>\n",
       "    <tr>\n",
       "      <th>20086</th>\n",
       "      <td>zuvelpa01</td>\n",
       "      <td>1958.0</td>\n",
       "      <td>10.0</td>\n",
       "      <td>31.0</td>\n",
       "      <td>USA</td>\n",
       "      <td>CA</td>\n",
       "      <td>San Mateo</td>\n",
       "      <td>NaN</td>\n",
       "      <td>NaN</td>\n",
       "      <td>NaN</td>\n",
       "      <td>NaN</td>\n",
       "      <td>NaN</td>\n",
       "      <td>NaN</td>\n",
       "      <td>Paul</td>\n",
       "      <td>Zuvella</td>\n",
       "      <td>Paul</td>\n",
       "      <td>173.0</td>\n",
       "      <td>72.0</td>\n",
       "      <td>R</td>\n",
       "      <td>R</td>\n",
       "      <td>1982-09-04</td>\n",
       "      <td>1991-05-02</td>\n",
       "      <td>zuvep001</td>\n",
       "      <td>zuvelpa01</td>\n",
       "    </tr>\n",
       "    <tr>\n",
       "      <th>20087</th>\n",
       "      <td>zuverge01</td>\n",
       "      <td>1924.0</td>\n",
       "      <td>8.0</td>\n",
       "      <td>20.0</td>\n",
       "      <td>USA</td>\n",
       "      <td>MI</td>\n",
       "      <td>Holland</td>\n",
       "      <td>2014.0</td>\n",
       "      <td>9.0</td>\n",
       "      <td>8.0</td>\n",
       "      <td>USA</td>\n",
       "      <td>AZ</td>\n",
       "      <td>Tempe</td>\n",
       "      <td>George</td>\n",
       "      <td>Zuverink</td>\n",
       "      <td>George</td>\n",
       "      <td>195.0</td>\n",
       "      <td>76.0</td>\n",
       "      <td>R</td>\n",
       "      <td>R</td>\n",
       "      <td>1951-04-21</td>\n",
       "      <td>1959-06-15</td>\n",
       "      <td>zuveg101</td>\n",
       "      <td>zuverge01</td>\n",
       "    </tr>\n",
       "    <tr>\n",
       "      <th>20088</th>\n",
       "      <td>zwilldu01</td>\n",
       "      <td>1888.0</td>\n",
       "      <td>11.0</td>\n",
       "      <td>2.0</td>\n",
       "      <td>USA</td>\n",
       "      <td>MO</td>\n",
       "      <td>St. Louis</td>\n",
       "      <td>1978.0</td>\n",
       "      <td>3.0</td>\n",
       "      <td>27.0</td>\n",
       "      <td>USA</td>\n",
       "      <td>CA</td>\n",
       "      <td>La Crescenta</td>\n",
       "      <td>Dutch</td>\n",
       "      <td>Zwilling</td>\n",
       "      <td>Edward Harrison</td>\n",
       "      <td>160.0</td>\n",
       "      <td>66.0</td>\n",
       "      <td>L</td>\n",
       "      <td>L</td>\n",
       "      <td>1910-08-14</td>\n",
       "      <td>1916-07-12</td>\n",
       "      <td>zwild101</td>\n",
       "      <td>zwilldu01</td>\n",
       "    </tr>\n",
       "    <tr>\n",
       "      <th>20089</th>\n",
       "      <td>zychto01</td>\n",
       "      <td>1990.0</td>\n",
       "      <td>8.0</td>\n",
       "      <td>7.0</td>\n",
       "      <td>USA</td>\n",
       "      <td>IL</td>\n",
       "      <td>Monee</td>\n",
       "      <td>NaN</td>\n",
       "      <td>NaN</td>\n",
       "      <td>NaN</td>\n",
       "      <td>NaN</td>\n",
       "      <td>NaN</td>\n",
       "      <td>NaN</td>\n",
       "      <td>Tony</td>\n",
       "      <td>Zych</td>\n",
       "      <td>Anthony Aaron</td>\n",
       "      <td>190.0</td>\n",
       "      <td>75.0</td>\n",
       "      <td>R</td>\n",
       "      <td>R</td>\n",
       "      <td>2015-09-04</td>\n",
       "      <td>2017-08-19</td>\n",
       "      <td>zycht001</td>\n",
       "      <td>zychto01</td>\n",
       "    </tr>\n",
       "  </tbody>\n",
       "</table>\n",
       "<p>20090 rows × 24 columns</p>\n",
       "</div>"
      ],
      "text/plain": [
       "        playerID  birthYear  birthMonth  birthDay birthCountry birthState  \\\n",
       "0      aardsda01     1981.0        12.0      27.0          USA         CO   \n",
       "1      aaronha01     1934.0         2.0       5.0          USA         AL   \n",
       "2      aaronto01     1939.0         8.0       5.0          USA         AL   \n",
       "3       aasedo01     1954.0         9.0       8.0          USA         CA   \n",
       "4       abadan01     1972.0         8.0      25.0          USA         FL   \n",
       "...          ...        ...         ...       ...          ...        ...   \n",
       "20085   zupofr01     1939.0         8.0      29.0          USA         CA   \n",
       "20086  zuvelpa01     1958.0        10.0      31.0          USA         CA   \n",
       "20087  zuverge01     1924.0         8.0      20.0          USA         MI   \n",
       "20088  zwilldu01     1888.0        11.0       2.0          USA         MO   \n",
       "20089   zychto01     1990.0         8.0       7.0          USA         IL   \n",
       "\n",
       "           birthCity  deathYear  deathMonth  deathDay deathCountry deathState  \\\n",
       "0             Denver        NaN         NaN       NaN          NaN        NaN   \n",
       "1             Mobile        NaN         NaN       NaN          NaN        NaN   \n",
       "2             Mobile     1984.0         8.0      16.0          USA         GA   \n",
       "3             Orange        NaN         NaN       NaN          NaN        NaN   \n",
       "4         Palm Beach        NaN         NaN       NaN          NaN        NaN   \n",
       "...              ...        ...         ...       ...          ...        ...   \n",
       "20085  San Francisco     2005.0         3.0      25.0          USA         CA   \n",
       "20086      San Mateo        NaN         NaN       NaN          NaN        NaN   \n",
       "20087        Holland     2014.0         9.0       8.0          USA         AZ   \n",
       "20088      St. Louis     1978.0         3.0      27.0          USA         CA   \n",
       "20089          Monee        NaN         NaN       NaN          NaN        NaN   \n",
       "\n",
       "          deathCity nameFirst  nameLast        nameGiven  weight  height bats  \\\n",
       "0               NaN     David   Aardsma      David Allan   215.0    75.0    R   \n",
       "1               NaN      Hank     Aaron      Henry Louis   180.0    72.0    R   \n",
       "2           Atlanta    Tommie     Aaron       Tommie Lee   190.0    75.0    R   \n",
       "3               NaN       Don      Aase   Donald William   190.0    75.0    R   \n",
       "4               NaN      Andy      Abad    Fausto Andres   184.0    73.0    L   \n",
       "...             ...       ...       ...              ...     ...     ...  ...   \n",
       "20085    Burlingame     Frank      Zupo     Frank Joseph   182.0    71.0    L   \n",
       "20086           NaN      Paul   Zuvella             Paul   173.0    72.0    R   \n",
       "20087         Tempe    George  Zuverink           George   195.0    76.0    R   \n",
       "20088  La Crescenta     Dutch  Zwilling  Edward Harrison   160.0    66.0    L   \n",
       "20089           NaN      Tony      Zych    Anthony Aaron   190.0    75.0    R   \n",
       "\n",
       "      throws       debut   finalGame   retroID    bbrefID  \n",
       "0          R  2004-04-06  2015-08-23  aardd001  aardsda01  \n",
       "1          R  1954-04-13  1976-10-03  aaroh101  aaronha01  \n",
       "2          R  1962-04-10  1971-09-26  aarot101  aaronto01  \n",
       "3          R  1977-07-26  1990-10-03  aased001   aasedo01  \n",
       "4          L  2001-09-10  2006-04-13  abada001   abadan01  \n",
       "...      ...         ...         ...       ...        ...  \n",
       "20085      R  1957-07-01  1961-05-09  zupof101   zupofr01  \n",
       "20086      R  1982-09-04  1991-05-02  zuvep001  zuvelpa01  \n",
       "20087      R  1951-04-21  1959-06-15  zuveg101  zuverge01  \n",
       "20088      L  1910-08-14  1916-07-12  zwild101  zwilldu01  \n",
       "20089      R  2015-09-04  2017-08-19  zycht001   zychto01  \n",
       "\n",
       "[20090 rows x 24 columns]"
      ]
     },
     "metadata": {},
     "output_type": "display_data"
    }
   ],
   "source": [
    "display_all(files['People'])"
   ]
  },
  {
   "cell_type": "markdown",
   "metadata": {},
   "source": [
    "This dataset consists of over twenty thousand Major League Baseball players from 1871 to 2019.\n",
    "\n",
    "This dataset is from Kaggle, however they did not provide complete and accurate information, so I searched for the source of the information which I then copied into this repository."
   ]
  },
  {
   "cell_type": "code",
   "execution_count": 6,
   "metadata": {},
   "outputs": [
    {
     "name": "stdout",
     "output_type": "stream",
     "text": [
      "<class 'pandas.core.frame.DataFrame'>\n",
      "RangeIndex: 20090 entries, 0 to 20089\n",
      "Data columns (total 24 columns):\n",
      " #   Column        Non-Null Count  Dtype  \n",
      "---  ------        --------------  -----  \n",
      " 0   playerID      20090 non-null  object \n",
      " 1   birthYear     19976 non-null  float64\n",
      " 2   birthMonth    19808 non-null  float64\n",
      " 3   birthDay      19666 non-null  float64\n",
      " 4   birthCountry  20029 non-null  object \n",
      " 5   birthState    19535 non-null  object \n",
      " 6   birthCity     19918 non-null  object \n",
      " 7   deathYear     9844 non-null   float64\n",
      " 8   deathMonth    9843 non-null   float64\n",
      " 9   deathDay      9842 non-null   float64\n",
      " 10  deathCountry  9840 non-null   object \n",
      " 11  deathState    9790 non-null   object \n",
      " 12  deathCity     9834 non-null   object \n",
      " 13  nameFirst     20053 non-null  object \n",
      " 14  nameLast      20090 non-null  object \n",
      " 15  nameGiven     20053 non-null  object \n",
      " 16  weight        19273 non-null  float64\n",
      " 17  height        19353 non-null  float64\n",
      " 18  bats          18910 non-null  object \n",
      " 19  throws        19113 non-null  object \n",
      " 20  debut         19892 non-null  object \n",
      " 21  finalGame     19892 non-null  object \n",
      " 22  retroID       20034 non-null  object \n",
      " 23  bbrefID       20088 non-null  object \n",
      "dtypes: float64(8), object(16)\n",
      "memory usage: 3.7+ MB\n"
     ]
    }
   ],
   "source": [
    "P = files['People'].copy()\n",
    "P.info(verbose=True, null_counts=True)"
   ]
  },
  {
   "cell_type": "markdown",
   "metadata": {},
   "source": [
    "For my purpose many of these categories will not be very useful, for example when and where some of these people died. There is also many missing values in those categories."
   ]
  },
  {
   "cell_type": "code",
   "execution_count": 7,
   "metadata": {},
   "outputs": [],
   "source": [
    "P.drop(['deathYear','deathMonth','deathDay','deathCountry',\n",
    "            'deathState','deathCity','retroID','bbrefID'], axis=1, inplace=True)"
   ]
  },
  {
   "cell_type": "code",
   "execution_count": 8,
   "metadata": {},
   "outputs": [],
   "source": [
    "People = P.copy()\n",
    "People = People.loc[ : ,['playerID','birthYear','birthMonth',\n",
    "                         'debut','finalGame']]"
   ]
  },
  {
   "cell_type": "markdown",
   "metadata": {},
   "source": [
    "The next thing to do is to get more information from the data. First I'm going to calculate how old each player was when they started playing, how long they played, and how old they were at retirement."
   ]
  },
  {
   "cell_type": "code",
   "execution_count": 9,
   "metadata": {},
   "outputs": [],
   "source": [
    "# There are relatively few N/A values, they can be dropped for now\n",
    "People = People.dropna()"
   ]
  },
  {
   "cell_type": "code",
   "execution_count": 10,
   "metadata": {},
   "outputs": [],
   "source": [
    "# Here I'm separating the years and months to make them easier to work with\n",
    "People['debutYear'] = People['debut'].apply(lambda x: str(x)).apply(lambda x: '{}'.format(x[:4]))\n",
    "People['debutYear'] = People['debutYear'].apply(lambda x: int(x))\n",
    "People['debutMonth'] = People['debut'].apply(lambda x: str(x)).apply(lambda x: '{}'.format(x[-5:-3]))\n",
    "People['debutMonth'] = People['debutMonth'].apply(lambda x: int(x))\n",
    "People['finalYear'] = People['finalGame'].apply(lambda x: str(x)).apply(lambda x: '{}'.format(x[:4]))\n",
    "People['finalYear'] = People['finalYear'].apply(lambda x: int(x))\n",
    "People['finalMonth'] = People['finalGame'].apply(lambda x: str(x)).apply(lambda x: '{}'.format(x[-5:-3]))\n",
    "People['finalMonth'] = People['finalMonth'].apply(lambda x: int(x))\n",
    "People.drop(['debut','finalGame'], axis=1, inplace=True)"
   ]
  },
  {
   "cell_type": "code",
   "execution_count": 11,
   "metadata": {},
   "outputs": [],
   "source": [
    "# This function turns the year and month columns into one value\n",
    "def Months(df, ycol, mcol):\n",
    "    z = []\n",
    "    for x in df.index:\n",
    "        z.append(12*(df['{}'.format(ycol)][x]) + (df['{}'.format(mcol)][x]))\n",
    "    return z"
   ]
  },
  {
   "cell_type": "code",
   "execution_count": 12,
   "metadata": {},
   "outputs": [],
   "source": [
    "start = Months(People, 'debutYear', 'debutMonth')\n",
    "born = Months(People, 'birthYear', 'birthMonth')\n",
    "final = Months(People, 'finalYear', 'finalMonth')"
   ]
  },
  {
   "cell_type": "code",
   "execution_count": 13,
   "metadata": {},
   "outputs": [],
   "source": [
    "# This function subtracts the items of one list from another\n",
    "def ToYears(list1, list2):\n",
    "    z = []\n",
    "    for x in list(range(len(list1))):\n",
    "        z.append(round((list1[x] - list2[x])/12,2))\n",
    "    return z"
   ]
  },
  {
   "cell_type": "code",
   "execution_count": 14,
   "metadata": {},
   "outputs": [],
   "source": [
    "People['startingAge'] = ToYears(start,born)\n",
    "People['timePlayed'] = ToYears(final,start)\n",
    "People['endingAge'] = ToYears(final,born)"
   ]
  },
  {
   "cell_type": "code",
   "execution_count": 15,
   "metadata": {},
   "outputs": [],
   "source": [
    "People = People.loc[ : ,['playerID','startingAge','timePlayed','endingAge']]"
   ]
  },
  {
   "cell_type": "code",
   "execution_count": 16,
   "metadata": {},
   "outputs": [],
   "source": [
    "# Merging back to the original dataset, keeping N/A values for now\n",
    "df = P.merge(People, how='left', on=\"playerID\")"
   ]
  },
  {
   "cell_type": "markdown",
   "metadata": {},
   "source": [
    "### Player Awards"
   ]
  },
  {
   "cell_type": "code",
   "execution_count": 17,
   "metadata": {
    "scrolled": true
   },
   "outputs": [
    {
     "name": "stdout",
     "output_type": "stream",
     "text": [
      "There have been 6236 awards given to 1360 players\n"
     ]
    }
   ],
   "source": [
    "AwardsPlayers = files['AwardsPlayers'].copy()\n",
    "print(''.join((f\"There have been {AwardsPlayers.shape[0]} awards \", \n",
    "f\"given to {AwardsPlayers.nunique()[0]} players\")))"
   ]
  },
  {
   "cell_type": "code",
   "execution_count": 18,
   "metadata": {},
   "outputs": [
    {
     "data": {
      "text/plain": [
       "6.769537083125933"
      ]
     },
     "execution_count": 18,
     "metadata": {},
     "output_type": "execute_result"
    }
   ],
   "source": [
    "# That's less that 7 percent of the total,\n",
    "# this should be useful in finding the best players\n",
    "100*1360/20090"
   ]
  },
  {
   "cell_type": "code",
   "execution_count": 19,
   "metadata": {},
   "outputs": [],
   "source": [
    "# This will let me make a simple plot and put in variables as needed\n",
    "def toplot(dataframe, column, b, title=\"Title\",xlabel=\"X Label Here\",\n",
    "            ylabel=\"Y Label Here\", kind=\"line\", color=\"skyblue\"):\n",
    "    mean = dataframe['{}'.format(column)].mean()\n",
    "    median = dataframe['{}'.format(column)].median()\n",
    "    ax = dataframe['{}'.format(column)].plot(kind=kind, bins=b, color=color)\n",
    "    ax.set_xlabel(xlabel)\n",
    "    ax.set_ylabel(ylabel)\n",
    "    plt.title(title)"
   ]
  },
  {
   "cell_type": "code",
   "execution_count": 20,
   "metadata": {
    "scrolled": false
   },
   "outputs": [
    {
     "data": {
      "image/png": "[encoded data removed]",
      "text/plain": [
       "<Figure size 432x288 with 1 Axes>"
      ]
     },
     "metadata": {
      "needs_background": "light"
     },
     "output_type": "display_data"
    }
   ],
   "source": [
    "toplot(AwardsPlayers, 'yearID', 50, \"Awards Given By Year\",\n",
    "        \"Number of Awards\", \"Year\", \"hist\", \"darkgoldenrod\")"
   ]
  },
  {
   "cell_type": "markdown",
   "metadata": {},
   "source": [
    "Few awards were given out in the early years, presumably baseball was not as mainstream at the time. The MVP award began in 1910, the same time as the obvious increase.\n",
    "\n",
    "There's also a clear dip in awards given shortly after WWII. I suspect this may be related to integration which was happening around that time, so this may be a sensitive issue to look into."
   ]
  },
  {
   "cell_type": "code",
   "execution_count": 21,
   "metadata": {},
   "outputs": [
    {
     "data": {
      "text/html": [
       "<div>\n",
       "<style scoped>\n",
       "    .dataframe tbody tr th:only-of-type {\n",
       "        vertical-align: middle;\n",
       "    }\n",
       "\n",
       "    .dataframe tbody tr th {\n",
       "        vertical-align: top;\n",
       "    }\n",
       "\n",
       "    .dataframe thead th {\n",
       "        text-align: right;\n",
       "    }\n",
       "</style>\n",
       "<table border=\"1\" class=\"dataframe\">\n",
       "  <thead>\n",
       "    <tr style=\"text-align: right;\">\n",
       "      <th></th>\n",
       "      <th>playerID</th>\n",
       "      <th>awardID</th>\n",
       "      <th>yearID</th>\n",
       "      <th>lgID</th>\n",
       "      <th>tie</th>\n",
       "      <th>notes</th>\n",
       "    </tr>\n",
       "  </thead>\n",
       "  <tbody>\n",
       "    <tr>\n",
       "      <th>0</th>\n",
       "      <td>bondto01</td>\n",
       "      <td>Pitching Triple Crown</td>\n",
       "      <td>1877</td>\n",
       "      <td>NL</td>\n",
       "      <td>NaN</td>\n",
       "      <td>NaN</td>\n",
       "    </tr>\n",
       "    <tr>\n",
       "      <th>1</th>\n",
       "      <td>hinespa01</td>\n",
       "      <td>Triple Crown</td>\n",
       "      <td>1878</td>\n",
       "      <td>NL</td>\n",
       "      <td>NaN</td>\n",
       "      <td>NaN</td>\n",
       "    </tr>\n",
       "    <tr>\n",
       "      <th>2</th>\n",
       "      <td>heckegu01</td>\n",
       "      <td>Pitching Triple Crown</td>\n",
       "      <td>1884</td>\n",
       "      <td>AA</td>\n",
       "      <td>NaN</td>\n",
       "      <td>NaN</td>\n",
       "    </tr>\n",
       "    <tr>\n",
       "      <th>3</th>\n",
       "      <td>radboch01</td>\n",
       "      <td>Pitching Triple Crown</td>\n",
       "      <td>1884</td>\n",
       "      <td>NL</td>\n",
       "      <td>NaN</td>\n",
       "      <td>NaN</td>\n",
       "    </tr>\n",
       "    <tr>\n",
       "      <th>4</th>\n",
       "      <td>oneilti01</td>\n",
       "      <td>Triple Crown</td>\n",
       "      <td>1887</td>\n",
       "      <td>AA</td>\n",
       "      <td>NaN</td>\n",
       "      <td>NaN</td>\n",
       "    </tr>\n",
       "    <tr>\n",
       "      <th>...</th>\n",
       "      <td>...</td>\n",
       "      <td>...</td>\n",
       "      <td>...</td>\n",
       "      <td>...</td>\n",
       "      <td>...</td>\n",
       "      <td>...</td>\n",
       "    </tr>\n",
       "    <tr>\n",
       "      <th>6183</th>\n",
       "      <td>arenano01</td>\n",
       "      <td>Silver Slugger</td>\n",
       "      <td>2017</td>\n",
       "      <td>NL</td>\n",
       "      <td>NaN</td>\n",
       "      <td>3B</td>\n",
       "    </tr>\n",
       "    <tr>\n",
       "      <th>6182</th>\n",
       "      <td>murphda08</td>\n",
       "      <td>Silver Slugger</td>\n",
       "      <td>2017</td>\n",
       "      <td>NL</td>\n",
       "      <td>NaN</td>\n",
       "      <td>2B</td>\n",
       "    </tr>\n",
       "    <tr>\n",
       "      <th>6181</th>\n",
       "      <td>goldspa01</td>\n",
       "      <td>Silver Slugger</td>\n",
       "      <td>2017</td>\n",
       "      <td>NL</td>\n",
       "      <td>NaN</td>\n",
       "      <td>1B</td>\n",
       "    </tr>\n",
       "    <tr>\n",
       "      <th>6179</th>\n",
       "      <td>cruzne02</td>\n",
       "      <td>Silver Slugger</td>\n",
       "      <td>2017</td>\n",
       "      <td>AL</td>\n",
       "      <td>NaN</td>\n",
       "      <td>DH</td>\n",
       "    </tr>\n",
       "    <tr>\n",
       "      <th>6235</th>\n",
       "      <td>janseke01</td>\n",
       "      <td>TSN All-Star</td>\n",
       "      <td>2017</td>\n",
       "      <td>NL</td>\n",
       "      <td>NaN</td>\n",
       "      <td>RP</td>\n",
       "    </tr>\n",
       "  </tbody>\n",
       "</table>\n",
       "<p>6236 rows × 6 columns</p>\n",
       "</div>"
      ],
      "text/plain": [
       "       playerID                awardID  yearID lgID  tie notes\n",
       "0      bondto01  Pitching Triple Crown    1877   NL  NaN   NaN\n",
       "1     hinespa01           Triple Crown    1878   NL  NaN   NaN\n",
       "2     heckegu01  Pitching Triple Crown    1884   AA  NaN   NaN\n",
       "3     radboch01  Pitching Triple Crown    1884   NL  NaN   NaN\n",
       "4     oneilti01           Triple Crown    1887   AA  NaN   NaN\n",
       "...         ...                    ...     ...  ...  ...   ...\n",
       "6183  arenano01         Silver Slugger    2017   NL  NaN    3B\n",
       "6182  murphda08         Silver Slugger    2017   NL  NaN    2B\n",
       "6181  goldspa01         Silver Slugger    2017   NL  NaN    1B\n",
       "6179   cruzne02         Silver Slugger    2017   AL  NaN    DH\n",
       "6235  janseke01           TSN All-Star    2017   NL  NaN    RP\n",
       "\n",
       "[6236 rows x 6 columns]"
      ]
     },
     "execution_count": 21,
     "metadata": {},
     "output_type": "execute_result"
    }
   ],
   "source": [
    "AwardsPlayers.sort_values(by='yearID')"
   ]
  },
  {
   "cell_type": "code",
   "execution_count": 22,
   "metadata": {
    "scrolled": true
   },
   "outputs": [],
   "source": [
    "# Turning the players and awards into a dataframe\n",
    "APNames = AwardsPlayers['playerID'].value_counts(dropna=False).index.tolist()\n",
    "APAward = AwardsPlayers['playerID'].value_counts(dropna=False).tolist()"
   ]
  },
  {
   "cell_type": "code",
   "execution_count": 23,
   "metadata": {},
   "outputs": [],
   "source": [
    "Awards = DataFrame([APNames,APAward]).transpose()\n",
    "Awards.columns = ['playerID','awards']"
   ]
  },
  {
   "cell_type": "code",
   "execution_count": 24,
   "metadata": {
    "scrolled": true
   },
   "outputs": [
    {
     "data": {
      "text/plain": [
       "Text(0, 0.5, 'Number of Awards')"
      ]
     },
     "execution_count": 24,
     "metadata": {},
     "output_type": "execute_result"
    },
    {
     "data": {
      "image/png": "[encoded data removed]",
      "text/plain": [
       "<Figure size 432x288 with 1 Axes>"
      ]
     },
     "metadata": {
      "needs_background": "light"
     },
     "output_type": "display_data"
    }
   ],
   "source": [
    "bx = Awards.plot(color=\"navy\", title=\"Awards by Player\")\n",
    "bx.set_xlabel(\"Players\")\n",
    "bx.set_ylabel(\"Number of Awards\")"
   ]
  },
  {
   "cell_type": "code",
   "execution_count": 25,
   "metadata": {},
   "outputs": [],
   "source": [
    "# Merging awards with main dataframe\n",
    "df = df.merge(Awards, how='left', on=\"playerID\")"
   ]
  },
  {
   "cell_type": "code",
   "execution_count": 26,
   "metadata": {},
   "outputs": [],
   "source": [
    "# Replacing NaN awards with zero\n",
    "df.awards.replace(np.NaN, 0, inplace=True)"
   ]
  },
  {
   "cell_type": "markdown",
   "metadata": {},
   "source": [
    "### Batting Scores"
   ]
  },
  {
   "cell_type": "code",
   "execution_count": 27,
   "metadata": {},
   "outputs": [],
   "source": [
    "# Reading data\n",
    "B = DataFrame(files['Batting'].copy())\n",
    "B1 = DataFrame(files['Batting'].copy())\n",
    "# To avoid dividing by zero I'm going to eliminate every entry where a player didn't get a hit\n",
    "NoHits = B1[B1['H'] == 0].index\n",
    "B1.drop(NoHits, inplace = True)\n",
    "# Copying dataframe into a smaller piece to make it easier and faster to work with\n",
    "B1 = B1.loc[ : ,['playerID','AB', 'H']]"
   ]
  },
  {
   "cell_type": "code",
   "execution_count": 35,
   "metadata": {},
   "outputs": [],
   "source": [
    "# Here is a function to return the batting average for each player\n",
    "def BatAVG(df):\n",
    "    IDs = []\n",
    "    AB = []\n",
    "    Hits = []\n",
    "    AVG = []\n",
    "    for x in df['playerID'].unique():\n",
    "        Player = df.loc[df['playerID'] == x]\n",
    "        IDs.append(x)\n",
    "        AB.append(sum(Player['AB']))\n",
    "        Hits.append(sum(Player['H']))\n",
    "        try:\n",
    "        # Adding in an exception for dividing by zero just in case\n",
    "            AVG.append((sum(Player['AB']))/(sum(Player['H'])))\n",
    "        except:\n",
    "            AVG.append(0)\n",
    "    data = {'playerID':IDs, 'battingAverage':AVG, 'totalAtBats':AB, 'totalHits':Hits}\n",
    "    NewDF = pd.DataFrame(data)\n",
    "    return NewDF, AVG, AB, Hits"
   ]
  },
  {
   "cell_type": "code",
   "execution_count": 33,
   "metadata": {},
   "outputs": [
    {
     "ename": "NameError",
     "evalue": "name 'a' is not defined",
     "output_type": "error",
     "traceback": [
      "\u001b[0;31m---------------------------------------------------------------------------\u001b[0m",
      "\u001b[0;31mNameError\u001b[0m                                 Traceback (most recent call last)",
      "\u001b[0;32m<ipython-input-33-0b8968033e78>\u001b[0m in \u001b[0;36m<module>\u001b[0;34m\u001b[0m\n\u001b[0;32m----> 1\u001b[0;31m \u001b[0mNew\u001b[0m \u001b[0;34m=\u001b[0m \u001b[0mBatAVG\u001b[0m\u001b[0;34m(\u001b[0m\u001b[0mB1\u001b[0m\u001b[0;34m)\u001b[0m\u001b[0;34m[\u001b[0m\u001b[0;36m0\u001b[0m\u001b[0;34m]\u001b[0m\u001b[0;34m\u001b[0m\u001b[0;34m\u001b[0m\u001b[0m\n\u001b[0m",
      "\u001b[0;32m<ipython-input-32-9c2b007e0a78>\u001b[0m in \u001b[0;36mBatAVG\u001b[0;34m(df)\u001b[0m\n\u001b[1;32m     15\u001b[0m         \u001b[0;32mexcept\u001b[0m\u001b[0;34m:\u001b[0m\u001b[0;34m\u001b[0m\u001b[0;34m\u001b[0m\u001b[0m\n\u001b[1;32m     16\u001b[0m             \u001b[0mAVG\u001b[0m\u001b[0;34m.\u001b[0m\u001b[0mappend\u001b[0m\u001b[0;34m(\u001b[0m\u001b[0;36m0\u001b[0m\u001b[0;34m)\u001b[0m\u001b[0;34m\u001b[0m\u001b[0;34m\u001b[0m\u001b[0m\n\u001b[0;32m---> 17\u001b[0;31m     \u001b[0mdata\u001b[0m \u001b[0;34m=\u001b[0m \u001b[0;34m{\u001b[0m\u001b[0;34m'playerID'\u001b[0m\u001b[0;34m:\u001b[0m\u001b[0mw\u001b[0m\u001b[0;34m,\u001b[0m \u001b[0;34m'totalAtBats'\u001b[0m\u001b[0;34m:\u001b[0m\u001b[0ma\u001b[0m\u001b[0;34m,\u001b[0m \u001b[0;34m'totalHits'\u001b[0m\u001b[0;34m:\u001b[0m\u001b[0mb\u001b[0m\u001b[0;34m,\u001b[0m \u001b[0;34m'battingAverage'\u001b[0m\u001b[0;34m:\u001b[0m\u001b[0mAVG\u001b[0m\u001b[0;34m}\u001b[0m\u001b[0;34m\u001b[0m\u001b[0;34m\u001b[0m\u001b[0m\n\u001b[0m\u001b[1;32m     18\u001b[0m     \u001b[0mNewDF\u001b[0m \u001b[0;34m=\u001b[0m \u001b[0mpd\u001b[0m\u001b[0;34m.\u001b[0m\u001b[0mDataFrame\u001b[0m\u001b[0;34m(\u001b[0m\u001b[0mdata\u001b[0m\u001b[0;34m)\u001b[0m\u001b[0;34m\u001b[0m\u001b[0;34m\u001b[0m\u001b[0m\n\u001b[1;32m     19\u001b[0m     \u001b[0;32mreturn\u001b[0m \u001b[0mNewDF\u001b[0m\u001b[0;34m,\u001b[0m \u001b[0mw\u001b[0m\u001b[0;34m,\u001b[0m \u001b[0mAVG\u001b[0m\u001b[0;34m,\u001b[0m \u001b[0ma\u001b[0m\u001b[0;34m,\u001b[0m \u001b[0mb\u001b[0m\u001b[0;34m\u001b[0m\u001b[0;34m\u001b[0m\u001b[0m\n",
      "\u001b[0;31mNameError\u001b[0m: name 'a' is not defined"
     ]
    }
   ],
   "source": [
    "AVGDF, Averages, AtBats, Hits = BatAVG(B1)"
   ]
  },
  {
   "cell_type": "code",
   "execution_count": null,
   "metadata": {},
   "outputs": [],
   "source": [
    "BatAVG(B)[0]"
   ]
  },
  {
   "cell_type": "code",
   "execution_count": null,
   "metadata": {},
   "outputs": [],
   "source": [
    "rounded = round((B1.shape[0])/(B.shape[0]), 3)\n",
    "print(rounded*100)\n"
   ]
  },
  {
   "cell_type": "markdown",
   "metadata": {},
   "source": [
    "Here I'm going to calculate the career batting average for each player."
   ]
  },
  {
   "cell_type": "code",
   "execution_count": null,
   "metadata": {},
   "outputs": [],
   "source": [
    "try:\n",
    "  type(cncvn)\n",
    "except NameError:\n",
    "  print(\"Variable is not defined\")\n",
    "except:\n",
    "  print(\"Something else went wrong\")"
   ]
  },
  {
   "cell_type": "code",
   "execution_count": null,
   "metadata": {},
   "outputs": [],
   "source": [
    "def BatAVG(df, AB, Hits):\n",
    "    for x in B1['playerID'].unique():\n",
    "        Player = B1.loc[B1['playerID'] == x]\n",
    "        y = sum(Player['AB'])\n",
    "        z = sum(Player['H'])\n",
    "        w = y/z\n",
    "    return w, x, y, z"
   ]
  },
  {
   "cell_type": "code",
   "execution_count": null,
   "metadata": {},
   "outputs": [],
   "source": [
    "B1['playerID'].unique()"
   ]
  },
  {
   "cell_type": "code",
   "execution_count": null,
   "metadata": {},
   "outputs": [],
   "source": [
    "sum(Hank['AB'])"
   ]
  },
  {
   "cell_type": "code",
   "execution_count": null,
   "metadata": {},
   "outputs": [],
   "source": [
    "Hank = B.loc[B['playerID'] == 'aaronha01']\n",
    "sum(Hank['AB'])"
   ]
  },
  {
   "cell_type": "code",
   "execution_count": null,
   "metadata": {},
   "outputs": [],
   "source": [
    "type(Hank)"
   ]
  },
  {
   "cell_type": "code",
   "execution_count": null,
   "metadata": {},
   "outputs": [],
   "source": [
    "TotalAB = DataFrame(B1['AB'].groupby(B1['playerID']))\n",
    "TotalH = DataFrame(B2['H'].groupby(B2['playerID']))\n",
    "print(len(TotalH))\n",
    "print(len(TotalAB))"
   ]
  },
  {
   "cell_type": "code",
   "execution_count": null,
   "metadata": {},
   "outputs": [],
   "source": [
    "TotalAB[0]"
   ]
  },
  {
   "cell_type": "code",
   "execution_count": null,
   "metadata": {},
   "outputs": [],
   "source": [
    "# This function returns the batting average by dividing at bats by hits\n",
    "def Bat(df, atbats, hits):\n",
    "    a = []\n",
    "    for x in df.index:\n",
    "        b = df['{}'.format(atbats)][x]\n",
    "        c = df['{}'.format(hits)][x]\n",
    "        try:\n",
    "            b / c\n",
    "        except ZeroDivisionError:\n",
    "            a.append(0)\n",
    "    return a"
   ]
  },
  {
   "cell_type": "code",
   "execution_count": null,
   "metadata": {},
   "outputs": [],
   "source": [
    "B['AVG'] = Bat(B, \"AB\", \"H\")"
   ]
  },
  {
   "cell_type": "code",
   "execution_count": null,
   "metadata": {},
   "outputs": [],
   "source": [
    "B.head()"
   ]
  },
  {
   "cell_type": "code",
   "execution_count": null,
   "metadata": {},
   "outputs": [],
   "source": []
  }
 ],
 "metadata": {
  "kernelspec": {
   "display_name": "Python 3",
   "language": "python",
   "name": "python3"
  },
  "language_info": {
   "codemirror_mode": {
    "name": "ipython",
    "version": 3
   },
   "file_extension": ".py",
   "mimetype": "text/x-python",
   "name": "python",
   "nbconvert_exporter": "python",
   "pygments_lexer": "ipython3",
   "version": "3.8.5"
  }
 },
 "nbformat": 4,
 "nbformat_minor": 4
}
